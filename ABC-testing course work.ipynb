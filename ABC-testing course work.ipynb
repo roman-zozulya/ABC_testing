{
 "cells": [
  {
   "cell_type": "markdown",
   "metadata": {},
   "source": [
    "### Гипотеза\n",
    "Коллеги из маркетинга решили провести исследование эластичности спроса по цене и в рамках него в ноябре запустили А/B/С-тестирование. Суть та же, что в A/B-тестировании, но мы делим пользователей не на 2 группы, а на 3. Задача была в одних и тех же условиях посмотреть, как пользователи реагируют на среднее повышение цены и на сильное повышение цены. Есть гипотеза, что морепродукты — это товар премиум-категории, поэтому даже сильное повышение не снизит нашу конверсию.\n",
    "\n",
    "### Что у нас есть\n",
    "- Две базы данных PostgreSQL и Clickhouse\n",
    "- таблицы purchases, registration и new_events\n",
    "\n",
    "\n",
    "### Что нужно сделать\n",
    "\n",
    "1. Определить, есть ли статистически значимое изменение конверсии из регистрации в оплату, а также изменился ли средний чек в группе теста. \n",
    "2. По результатам теста написать отчет и сделать рекомендацию руководству, принимая во внимание цель — максимизировать доход."
   ]
  },
  {
   "cell_type": "code",
   "execution_count": 1,
   "metadata": {},
   "outputs": [],
   "source": [
    "# Подключение к Postgresql\n",
    "from c_postgresql_secret import pg_secret\n",
    "import psycopg2\n",
    "\n",
    "connection = psycopg2.connect(database = pg_secret['db_name'],\n",
    "                             user = pg_secret['db_user'],\n",
    "                             password = pg_secret['db_password'],\n",
    "                             host = pg_secret['db_host'],\n",
    "                             port = pg_secret['db_port'])\n",
    "cursor = connection.cursor()"
   ]
  },
  {
   "cell_type": "code",
   "execution_count": 2,
   "metadata": {},
   "outputs": [],
   "source": [
    "import pandas as pd"
   ]
  },
  {
   "cell_type": "code",
   "execution_count": 3,
   "metadata": {},
   "outputs": [
    {
     "data": {
      "text/plain": [
       "(Column(name='user_id', type_code=23),\n",
       " Column(name='registered_at', type_code=1114),\n",
       " Column(name='device', type_code=1043),\n",
       " Column(name='geo', type_code=1043),\n",
       " Column(name='marketing', type_code=1043))"
      ]
     },
     "execution_count": 3,
     "metadata": {},
     "output_type": "execute_result"
    }
   ],
   "source": [
    "# Создаю запрос для ДФ registration\n",
    "query_regs = '''SELECT *\n",
    "                FROM registration'''\n",
    "cursor.execute(query_regs)\n",
    "reg_result = cursor.fetchall()\n",
    "cursor.description\n"
   ]
  },
  {
   "cell_type": "code",
   "execution_count": 4,
   "metadata": {},
   "outputs": [],
   "source": [
    "columns_reg = []\n",
    "for descript in cursor.description:\n",
    "    columns_reg.append(descript[0])\n",
    "    \n",
    "registrations = pd.DataFrame(reg_result, columns = columns_reg)\n"
   ]
  },
  {
   "cell_type": "code",
   "execution_count": 7,
   "metadata": {},
   "outputs": [],
   "source": [
    "registrations = registrations.drop_duplicates('user_id') # !исправил удалил дубликаты"
   ]
  },
  {
   "cell_type": "code",
   "execution_count": 9,
   "metadata": {},
   "outputs": [
    {
     "data": {
      "text/html": [
       "<div>\n",
       "<style scoped>\n",
       "    .dataframe tbody tr th:only-of-type {\n",
       "        vertical-align: middle;\n",
       "    }\n",
       "\n",
       "    .dataframe tbody tr th {\n",
       "        vertical-align: top;\n",
       "    }\n",
       "\n",
       "    .dataframe thead th {\n",
       "        text-align: right;\n",
       "    }\n",
       "</style>\n",
       "<table border=\"1\" class=\"dataframe\">\n",
       "  <thead>\n",
       "    <tr style=\"text-align: right;\">\n",
       "      <th></th>\n",
       "      <th>user_id</th>\n",
       "      <th>registered_at</th>\n",
       "      <th>device</th>\n",
       "      <th>geo</th>\n",
       "      <th>marketing</th>\n",
       "    </tr>\n",
       "  </thead>\n",
       "  <tbody>\n",
       "    <tr>\n",
       "      <th>291763</th>\n",
       "      <td>1412358</td>\n",
       "      <td>2020-11-06 16:35:56</td>\n",
       "      <td>mobile</td>\n",
       "      <td>regions</td>\n",
       "      <td>referral</td>\n",
       "    </tr>\n",
       "  </tbody>\n",
       "</table>\n",
       "</div>"
      ],
      "text/plain": [
       "        user_id       registered_at  device      geo marketing\n",
       "291763  1412358 2020-11-06 16:35:56  mobile  regions  referral"
      ]
     },
     "execution_count": 9,
     "metadata": {},
     "output_type": "execute_result"
    }
   ],
   "source": [
    "#registrations[registrations.user_id == 1412358]"
   ]
  },
  {
   "cell_type": "code",
   "execution_count": 10,
   "metadata": {},
   "outputs": [
    {
     "data": {
      "text/plain": [
       "registered_at\n",
       "11    293187\n",
       "Name: user_id, dtype: int64"
      ]
     },
     "execution_count": 10,
     "metadata": {},
     "output_type": "execute_result"
    }
   ],
   "source": [
    "registrations['user_id'].groupby(registrations['registered_at'].dt.month).nunique()"
   ]
  },
  {
   "cell_type": "code",
   "execution_count": 11,
   "metadata": {},
   "outputs": [
    {
     "data": {
      "text/plain": [
       "organic     194841\n",
       "cpc          40835\n",
       "social       35011\n",
       "referral     20498\n",
       "unknown          2\n",
       "Name: marketing, dtype: int64"
      ]
     },
     "execution_count": 11,
     "metadata": {},
     "output_type": "execute_result"
    }
   ],
   "source": [
    "registrations['marketing'].value_counts()"
   ]
  },
  {
   "cell_type": "code",
   "execution_count": 12,
   "metadata": {},
   "outputs": [
    {
     "data": {
      "text/plain": [
       "(Column(name='user_id', type_code=23), Column(name='order_sum', type_code=701))"
      ]
     },
     "execution_count": 12,
     "metadata": {},
     "output_type": "execute_result"
    }
   ],
   "source": [
    "#Создаю запрос для ДФ purchases\n",
    "query_purch = '''SELECT *\n",
    "                FROM purchases'''\n",
    "cursor.execute(query_purch)\n",
    "\n",
    "purch_result = cursor.fetchall()\n",
    "cursor.description"
   ]
  },
  {
   "cell_type": "code",
   "execution_count": 13,
   "metadata": {},
   "outputs": [],
   "source": [
    "columns_purch = []\n",
    "for descript in cursor.description:\n",
    "    columns_purch.append(descript[0])\n",
    "purchases = pd.DataFrame(purch_result, columns = columns_purch)\n"
   ]
  },
  {
   "cell_type": "code",
   "execution_count": 14,
   "metadata": {},
   "outputs": [
    {
     "data": {
      "text/html": [
       "<div>\n",
       "<style scoped>\n",
       "    .dataframe tbody tr th:only-of-type {\n",
       "        vertical-align: middle;\n",
       "    }\n",
       "\n",
       "    .dataframe tbody tr th {\n",
       "        vertical-align: top;\n",
       "    }\n",
       "\n",
       "    .dataframe thead th {\n",
       "        text-align: right;\n",
       "    }\n",
       "</style>\n",
       "<table border=\"1\" class=\"dataframe\">\n",
       "  <thead>\n",
       "    <tr style=\"text-align: right;\">\n",
       "      <th></th>\n",
       "      <th>user_id</th>\n",
       "      <th>order_sum</th>\n",
       "    </tr>\n",
       "  </thead>\n",
       "  <tbody>\n",
       "    <tr>\n",
       "      <th>0</th>\n",
       "      <td>1150472</td>\n",
       "      <td>6293.0</td>\n",
       "    </tr>\n",
       "    <tr>\n",
       "      <th>1</th>\n",
       "      <td>1380513</td>\n",
       "      <td>9408.0</td>\n",
       "    </tr>\n",
       "    <tr>\n",
       "      <th>2</th>\n",
       "      <td>1249084</td>\n",
       "      <td>2812.0</td>\n",
       "    </tr>\n",
       "    <tr>\n",
       "      <th>3</th>\n",
       "      <td>1317944</td>\n",
       "      <td>1668.0</td>\n",
       "    </tr>\n",
       "    <tr>\n",
       "      <th>4</th>\n",
       "      <td>1338139</td>\n",
       "      <td>4946.0</td>\n",
       "    </tr>\n",
       "  </tbody>\n",
       "</table>\n",
       "</div>"
      ],
      "text/plain": [
       "   user_id  order_sum\n",
       "0  1150472     6293.0\n",
       "1  1380513     9408.0\n",
       "2  1249084     2812.0\n",
       "3  1317944     1668.0\n",
       "4  1338139     4946.0"
      ]
     },
     "execution_count": 14,
     "metadata": {},
     "output_type": "execute_result"
    }
   ],
   "source": [
    "purchases.head()"
   ]
  },
  {
   "cell_type": "code",
   "execution_count": null,
   "metadata": {},
   "outputs": [],
   "source": [
    "# Подключение к Clickhouse"
   ]
  },
  {
   "cell_type": "code",
   "execution_count": 15,
   "metadata": {},
   "outputs": [],
   "source": [
    "from c_clickhouse_secret import ch_secret\n",
    "from clickhouse_driver import Client"
   ]
  },
  {
   "cell_type": "code",
   "execution_count": 16,
   "metadata": {},
   "outputs": [],
   "source": [
    "client = Client(user = ch_secret['db_user'],\n",
    "               password = ch_secret['db_password'],\n",
    "               port = ch_secret['db_port'],\n",
    "               database = ch_secret['db_name'],\n",
    "               host = ch_secret['db_host'],\n",
    "               verify = False)"
   ]
  },
  {
   "cell_type": "code",
   "execution_count": 17,
   "metadata": {},
   "outputs": [
    {
     "data": {
      "text/plain": [
       "[('user_id', 'UInt64'),\n",
       " ('timestamp', 'DateTime'),\n",
       " ('test_group', 'String'),\n",
       " ('event', 'String')]"
      ]
     },
     "execution_count": 17,
     "metadata": {},
     "output_type": "execute_result"
    }
   ],
   "source": [
    "new_events_result, columns = client.execute('SELECT * FROM new_events',\n",
    "                                           with_column_types = True)\n",
    "columns"
   ]
  },
  {
   "cell_type": "code",
   "execution_count": 18,
   "metadata": {},
   "outputs": [],
   "source": [
    "new_events_columns = []\n",
    "for description in columns:\n",
    "    new_events_columns.append(description[0])\n",
    "new_events = pd.DataFrame(new_events_result, columns = new_events_columns)"
   ]
  },
  {
   "cell_type": "code",
   "execution_count": 19,
   "metadata": {},
   "outputs": [
    {
     "data": {
      "text/html": [
       "<div>\n",
       "<style scoped>\n",
       "    .dataframe tbody tr th:only-of-type {\n",
       "        vertical-align: middle;\n",
       "    }\n",
       "\n",
       "    .dataframe tbody tr th {\n",
       "        vertical-align: top;\n",
       "    }\n",
       "\n",
       "    .dataframe thead th {\n",
       "        text-align: right;\n",
       "    }\n",
       "</style>\n",
       "<table border=\"1\" class=\"dataframe\">\n",
       "  <thead>\n",
       "    <tr style=\"text-align: right;\">\n",
       "      <th></th>\n",
       "      <th>user_id</th>\n",
       "      <th>timestamp</th>\n",
       "      <th>test_group</th>\n",
       "      <th>event</th>\n",
       "    </tr>\n",
       "  </thead>\n",
       "  <tbody>\n",
       "    <tr>\n",
       "      <th>0</th>\n",
       "      <td>1256666</td>\n",
       "      <td>2020-11-19 12:14:20</td>\n",
       "      <td>big_increase</td>\n",
       "      <td>registration</td>\n",
       "    </tr>\n",
       "    <tr>\n",
       "      <th>1</th>\n",
       "      <td>1225937</td>\n",
       "      <td>2020-11-23 03:37:05</td>\n",
       "      <td>small_increase</td>\n",
       "      <td>registration</td>\n",
       "    </tr>\n",
       "    <tr>\n",
       "      <th>2</th>\n",
       "      <td>1265347</td>\n",
       "      <td>2020-11-19 16:15:57</td>\n",
       "      <td>small_increase</td>\n",
       "      <td>registration</td>\n",
       "    </tr>\n",
       "    <tr>\n",
       "      <th>3</th>\n",
       "      <td>1332763</td>\n",
       "      <td>2020-11-06 03:10:02</td>\n",
       "      <td>small_increase</td>\n",
       "      <td>registration</td>\n",
       "    </tr>\n",
       "    <tr>\n",
       "      <th>4</th>\n",
       "      <td>1317792</td>\n",
       "      <td>2020-11-17 00:45:55</td>\n",
       "      <td>control</td>\n",
       "      <td>registration</td>\n",
       "    </tr>\n",
       "  </tbody>\n",
       "</table>\n",
       "</div>"
      ],
      "text/plain": [
       "   user_id           timestamp      test_group         event\n",
       "0  1256666 2020-11-19 12:14:20    big_increase  registration\n",
       "1  1225937 2020-11-23 03:37:05  small_increase  registration\n",
       "2  1265347 2020-11-19 16:15:57  small_increase  registration\n",
       "3  1332763 2020-11-06 03:10:02  small_increase  registration\n",
       "4  1317792 2020-11-17 00:45:55         control  registration"
      ]
     },
     "execution_count": 19,
     "metadata": {},
     "output_type": "execute_result"
    }
   ],
   "source": [
    "new_events.head()"
   ]
  },
  {
   "cell_type": "code",
   "execution_count": 20,
   "metadata": {},
   "outputs": [
    {
     "data": {
      "text/plain": [
       "timestamp\n",
       "11    293187\n",
       "12       139\n",
       "Name: user_id, dtype: int64"
      ]
     },
     "execution_count": 20,
     "metadata": {},
     "output_type": "execute_result"
    }
   ],
   "source": [
    "new_events['user_id'].groupby(new_events['timestamp'].dt.month).nunique()"
   ]
  },
  {
   "cell_type": "code",
   "execution_count": 21,
   "metadata": {},
   "outputs": [
    {
     "data": {
      "text/plain": [
       "registration    294078\n",
       "purchase         33092\n",
       "Name: event, dtype: int64"
      ]
     },
     "execution_count": 21,
     "metadata": {},
     "output_type": "execute_result"
    }
   ],
   "source": [
    "new_events['event'].value_counts()"
   ]
  },
  {
   "cell_type": "markdown",
   "metadata": {},
   "source": [
    "Вычисляю окно конверсий\n",
    "- вычисляю время для принятия решения о покупке\n",
    "- вычисляю процентили 100, 95, 85\n",
    "- импортирую визуал \n",
    "\n",
    "Для удобства далее я разобью дф new_events на два, в одном будут только регистрации, в другом только покупки. Затем объединю их так чтобы рега и покупка были в одной строке и легче было посчитать разницу во времени."
   ]
  },
  {
   "cell_type": "code",
   "execution_count": 22,
   "metadata": {},
   "outputs": [],
   "source": [
    "import seaborn as sns \n",
    "import matplotlib.pyplot as plt"
   ]
  },
  {
   "cell_type": "code",
   "execution_count": 23,
   "metadata": {},
   "outputs": [],
   "source": [
    "new_events_purch = pd.merge(new_events,\n",
    "                           purchases,\n",
    "                           how = 'inner',\n",
    "                           on = 'user_id')"
   ]
  },
  {
   "cell_type": "code",
   "execution_count": 24,
   "metadata": {},
   "outputs": [
    {
     "data": {
      "text/html": [
       "<div>\n",
       "<style scoped>\n",
       "    .dataframe tbody tr th:only-of-type {\n",
       "        vertical-align: middle;\n",
       "    }\n",
       "\n",
       "    .dataframe tbody tr th {\n",
       "        vertical-align: top;\n",
       "    }\n",
       "\n",
       "    .dataframe thead th {\n",
       "        text-align: right;\n",
       "    }\n",
       "</style>\n",
       "<table border=\"1\" class=\"dataframe\">\n",
       "  <thead>\n",
       "    <tr style=\"text-align: right;\">\n",
       "      <th></th>\n",
       "      <th>user_id</th>\n",
       "      <th>timestamp</th>\n",
       "      <th>test_group</th>\n",
       "      <th>event</th>\n",
       "      <th>order_sum</th>\n",
       "    </tr>\n",
       "  </thead>\n",
       "  <tbody>\n",
       "    <tr>\n",
       "      <th>0</th>\n",
       "      <td>1343452</td>\n",
       "      <td>2020-11-19 15:56:34</td>\n",
       "      <td>small_increase</td>\n",
       "      <td>registration</td>\n",
       "      <td>4023.0</td>\n",
       "    </tr>\n",
       "    <tr>\n",
       "      <th>1</th>\n",
       "      <td>1343452</td>\n",
       "      <td>2020-11-20 20:37:40</td>\n",
       "      <td></td>\n",
       "      <td>purchase</td>\n",
       "      <td>4023.0</td>\n",
       "    </tr>\n",
       "    <tr>\n",
       "      <th>2</th>\n",
       "      <td>1287352</td>\n",
       "      <td>2020-11-13 17:30:22</td>\n",
       "      <td>control</td>\n",
       "      <td>registration</td>\n",
       "      <td>3285.0</td>\n",
       "    </tr>\n",
       "    <tr>\n",
       "      <th>3</th>\n",
       "      <td>1287352</td>\n",
       "      <td>2020-11-18 15:37:09</td>\n",
       "      <td></td>\n",
       "      <td>purchase</td>\n",
       "      <td>3285.0</td>\n",
       "    </tr>\n",
       "    <tr>\n",
       "      <th>4</th>\n",
       "      <td>1276338</td>\n",
       "      <td>2020-11-24 03:25:42</td>\n",
       "      <td>control</td>\n",
       "      <td>registration</td>\n",
       "      <td>6598.0</td>\n",
       "    </tr>\n",
       "    <tr>\n",
       "      <th>...</th>\n",
       "      <td>...</td>\n",
       "      <td>...</td>\n",
       "      <td>...</td>\n",
       "      <td>...</td>\n",
       "      <td>...</td>\n",
       "    </tr>\n",
       "    <tr>\n",
       "      <th>66200</th>\n",
       "      <td>1177147</td>\n",
       "      <td>2020-11-11 22:14:44</td>\n",
       "      <td></td>\n",
       "      <td>purchase</td>\n",
       "      <td>7642.0</td>\n",
       "    </tr>\n",
       "    <tr>\n",
       "      <th>66201</th>\n",
       "      <td>1248667</td>\n",
       "      <td>2020-11-04 05:18:36</td>\n",
       "      <td>big_increase</td>\n",
       "      <td>registration</td>\n",
       "      <td>4273.0</td>\n",
       "    </tr>\n",
       "    <tr>\n",
       "      <th>66202</th>\n",
       "      <td>1248667</td>\n",
       "      <td>2020-11-07 14:45:38</td>\n",
       "      <td></td>\n",
       "      <td>purchase</td>\n",
       "      <td>4273.0</td>\n",
       "    </tr>\n",
       "    <tr>\n",
       "      <th>66203</th>\n",
       "      <td>1210538</td>\n",
       "      <td>2020-11-09 20:40:37</td>\n",
       "      <td>small_increase</td>\n",
       "      <td>registration</td>\n",
       "      <td>7392.0</td>\n",
       "    </tr>\n",
       "    <tr>\n",
       "      <th>66204</th>\n",
       "      <td>1210538</td>\n",
       "      <td>2020-11-10 01:37:12</td>\n",
       "      <td></td>\n",
       "      <td>purchase</td>\n",
       "      <td>7392.0</td>\n",
       "    </tr>\n",
       "  </tbody>\n",
       "</table>\n",
       "<p>66205 rows × 5 columns</p>\n",
       "</div>"
      ],
      "text/plain": [
       "       user_id           timestamp      test_group         event  order_sum\n",
       "0      1343452 2020-11-19 15:56:34  small_increase  registration     4023.0\n",
       "1      1343452 2020-11-20 20:37:40                      purchase     4023.0\n",
       "2      1287352 2020-11-13 17:30:22         control  registration     3285.0\n",
       "3      1287352 2020-11-18 15:37:09                      purchase     3285.0\n",
       "4      1276338 2020-11-24 03:25:42         control  registration     6598.0\n",
       "...        ...                 ...             ...           ...        ...\n",
       "66200  1177147 2020-11-11 22:14:44                      purchase     7642.0\n",
       "66201  1248667 2020-11-04 05:18:36    big_increase  registration     4273.0\n",
       "66202  1248667 2020-11-07 14:45:38                      purchase     4273.0\n",
       "66203  1210538 2020-11-09 20:40:37  small_increase  registration     7392.0\n",
       "66204  1210538 2020-11-10 01:37:12                      purchase     7392.0\n",
       "\n",
       "[66205 rows x 5 columns]"
      ]
     },
     "execution_count": 24,
     "metadata": {},
     "output_type": "execute_result"
    }
   ],
   "source": [
    "new_events_purch"
   ]
  },
  {
   "cell_type": "code",
   "execution_count": 25,
   "metadata": {},
   "outputs": [
    {
     "data": {
      "text/plain": [
       "timestamp\n",
       "11    33092\n",
       "12      139\n",
       "Name: user_id, dtype: int64"
      ]
     },
     "execution_count": 25,
     "metadata": {},
     "output_type": "execute_result"
    }
   ],
   "source": [
    "new_events_purch['user_id'].groupby(new_events_purch['timestamp'].dt.month).nunique()"
   ]
  },
  {
   "cell_type": "code",
   "execution_count": 29,
   "metadata": {},
   "outputs": [],
   "source": [
    "new_events_purch_reg = new_events_purch.loc[new_events_purch['event'] == 'registration']"
   ]
  },
  {
   "cell_type": "code",
   "execution_count": 30,
   "metadata": {},
   "outputs": [],
   "source": [
    "new_events_purch_reg = new_events_purch_reg.rename(columns = {'timestamp': 'reg_time'}).drop('event', 1)"
   ]
  },
  {
   "cell_type": "code",
   "execution_count": 31,
   "metadata": {},
   "outputs": [
    {
     "data": {
      "text/html": [
       "<div>\n",
       "<style scoped>\n",
       "    .dataframe tbody tr th:only-of-type {\n",
       "        vertical-align: middle;\n",
       "    }\n",
       "\n",
       "    .dataframe tbody tr th {\n",
       "        vertical-align: top;\n",
       "    }\n",
       "\n",
       "    .dataframe thead th {\n",
       "        text-align: right;\n",
       "    }\n",
       "</style>\n",
       "<table border=\"1\" class=\"dataframe\">\n",
       "  <thead>\n",
       "    <tr style=\"text-align: right;\">\n",
       "      <th></th>\n",
       "      <th>user_id</th>\n",
       "      <th>reg_time</th>\n",
       "      <th>test_group</th>\n",
       "      <th>order_sum</th>\n",
       "    </tr>\n",
       "  </thead>\n",
       "  <tbody>\n",
       "    <tr>\n",
       "      <th>0</th>\n",
       "      <td>1343452</td>\n",
       "      <td>2020-11-19 15:56:34</td>\n",
       "      <td>small_increase</td>\n",
       "      <td>4023.0</td>\n",
       "    </tr>\n",
       "    <tr>\n",
       "      <th>2</th>\n",
       "      <td>1287352</td>\n",
       "      <td>2020-11-13 17:30:22</td>\n",
       "      <td>control</td>\n",
       "      <td>3285.0</td>\n",
       "    </tr>\n",
       "    <tr>\n",
       "      <th>4</th>\n",
       "      <td>1276338</td>\n",
       "      <td>2020-11-24 03:25:42</td>\n",
       "      <td>control</td>\n",
       "      <td>6598.0</td>\n",
       "    </tr>\n",
       "    <tr>\n",
       "      <th>6</th>\n",
       "      <td>1291792</td>\n",
       "      <td>2020-11-23 02:30:08</td>\n",
       "      <td>big_increase</td>\n",
       "      <td>2305.0</td>\n",
       "    </tr>\n",
       "    <tr>\n",
       "      <th>8</th>\n",
       "      <td>1397741</td>\n",
       "      <td>2020-11-13 10:29:43</td>\n",
       "      <td>control</td>\n",
       "      <td>1985.0</td>\n",
       "    </tr>\n",
       "    <tr>\n",
       "      <th>...</th>\n",
       "      <td>...</td>\n",
       "      <td>...</td>\n",
       "      <td>...</td>\n",
       "      <td>...</td>\n",
       "    </tr>\n",
       "    <tr>\n",
       "      <th>66195</th>\n",
       "      <td>1400795</td>\n",
       "      <td>2020-11-09 10:45:59</td>\n",
       "      <td>big_increase</td>\n",
       "      <td>1602.0</td>\n",
       "    </tr>\n",
       "    <tr>\n",
       "      <th>66197</th>\n",
       "      <td>1223473</td>\n",
       "      <td>2020-11-12 14:40:09</td>\n",
       "      <td>control</td>\n",
       "      <td>2269.0</td>\n",
       "    </tr>\n",
       "    <tr>\n",
       "      <th>66199</th>\n",
       "      <td>1177147</td>\n",
       "      <td>2020-11-11 16:09:26</td>\n",
       "      <td>big_increase</td>\n",
       "      <td>7642.0</td>\n",
       "    </tr>\n",
       "    <tr>\n",
       "      <th>66201</th>\n",
       "      <td>1248667</td>\n",
       "      <td>2020-11-04 05:18:36</td>\n",
       "      <td>big_increase</td>\n",
       "      <td>4273.0</td>\n",
       "    </tr>\n",
       "    <tr>\n",
       "      <th>66203</th>\n",
       "      <td>1210538</td>\n",
       "      <td>2020-11-09 20:40:37</td>\n",
       "      <td>small_increase</td>\n",
       "      <td>7392.0</td>\n",
       "    </tr>\n",
       "  </tbody>\n",
       "</table>\n",
       "<p>33113 rows × 4 columns</p>\n",
       "</div>"
      ],
      "text/plain": [
       "       user_id            reg_time      test_group  order_sum\n",
       "0      1343452 2020-11-19 15:56:34  small_increase     4023.0\n",
       "2      1287352 2020-11-13 17:30:22         control     3285.0\n",
       "4      1276338 2020-11-24 03:25:42         control     6598.0\n",
       "6      1291792 2020-11-23 02:30:08    big_increase     2305.0\n",
       "8      1397741 2020-11-13 10:29:43         control     1985.0\n",
       "...        ...                 ...             ...        ...\n",
       "66195  1400795 2020-11-09 10:45:59    big_increase     1602.0\n",
       "66197  1223473 2020-11-12 14:40:09         control     2269.0\n",
       "66199  1177147 2020-11-11 16:09:26    big_increase     7642.0\n",
       "66201  1248667 2020-11-04 05:18:36    big_increase     4273.0\n",
       "66203  1210538 2020-11-09 20:40:37  small_increase     7392.0\n",
       "\n",
       "[33113 rows x 4 columns]"
      ]
     },
     "execution_count": 31,
     "metadata": {},
     "output_type": "execute_result"
    }
   ],
   "source": [
    "new_events_purch_reg"
   ]
  },
  {
   "cell_type": "code",
   "execution_count": 32,
   "metadata": {},
   "outputs": [],
   "source": [
    "new_events_purch_purch = new_events_purch.loc[new_events_purch['event'] == 'purchase']"
   ]
  },
  {
   "cell_type": "code",
   "execution_count": 33,
   "metadata": {},
   "outputs": [],
   "source": [
    "new_events_purch_purch = new_events_purch_purch.rename(columns = {'timestamp': 'purch_time'})"
   ]
  },
  {
   "cell_type": "code",
   "execution_count": 34,
   "metadata": {},
   "outputs": [],
   "source": [
    "new_events_purch_purch = new_events_purch_purch.drop('order_sum', 1).drop('event', 1).drop('test_group', 1)"
   ]
  },
  {
   "cell_type": "code",
   "execution_count": 35,
   "metadata": {},
   "outputs": [
    {
     "data": {
      "text/html": [
       "<div>\n",
       "<style scoped>\n",
       "    .dataframe tbody tr th:only-of-type {\n",
       "        vertical-align: middle;\n",
       "    }\n",
       "\n",
       "    .dataframe tbody tr th {\n",
       "        vertical-align: top;\n",
       "    }\n",
       "\n",
       "    .dataframe thead th {\n",
       "        text-align: right;\n",
       "    }\n",
       "</style>\n",
       "<table border=\"1\" class=\"dataframe\">\n",
       "  <thead>\n",
       "    <tr style=\"text-align: right;\">\n",
       "      <th></th>\n",
       "      <th>user_id</th>\n",
       "      <th>purch_time</th>\n",
       "    </tr>\n",
       "  </thead>\n",
       "  <tbody>\n",
       "    <tr>\n",
       "      <th>1</th>\n",
       "      <td>1343452</td>\n",
       "      <td>2020-11-20 20:37:40</td>\n",
       "    </tr>\n",
       "    <tr>\n",
       "      <th>3</th>\n",
       "      <td>1287352</td>\n",
       "      <td>2020-11-18 15:37:09</td>\n",
       "    </tr>\n",
       "    <tr>\n",
       "      <th>5</th>\n",
       "      <td>1276338</td>\n",
       "      <td>2020-11-27 04:30:56</td>\n",
       "    </tr>\n",
       "    <tr>\n",
       "      <th>7</th>\n",
       "      <td>1291792</td>\n",
       "      <td>2020-11-24 13:28:05</td>\n",
       "    </tr>\n",
       "    <tr>\n",
       "      <th>9</th>\n",
       "      <td>1397741</td>\n",
       "      <td>2020-11-17 12:13:37</td>\n",
       "    </tr>\n",
       "    <tr>\n",
       "      <th>...</th>\n",
       "      <td>...</td>\n",
       "      <td>...</td>\n",
       "    </tr>\n",
       "    <tr>\n",
       "      <th>66196</th>\n",
       "      <td>1400795</td>\n",
       "      <td>2020-11-09 14:44:50</td>\n",
       "    </tr>\n",
       "    <tr>\n",
       "      <th>66198</th>\n",
       "      <td>1223473</td>\n",
       "      <td>2020-11-13 08:55:06</td>\n",
       "    </tr>\n",
       "    <tr>\n",
       "      <th>66200</th>\n",
       "      <td>1177147</td>\n",
       "      <td>2020-11-11 22:14:44</td>\n",
       "    </tr>\n",
       "    <tr>\n",
       "      <th>66202</th>\n",
       "      <td>1248667</td>\n",
       "      <td>2020-11-07 14:45:38</td>\n",
       "    </tr>\n",
       "    <tr>\n",
       "      <th>66204</th>\n",
       "      <td>1210538</td>\n",
       "      <td>2020-11-10 01:37:12</td>\n",
       "    </tr>\n",
       "  </tbody>\n",
       "</table>\n",
       "<p>33092 rows × 2 columns</p>\n",
       "</div>"
      ],
      "text/plain": [
       "       user_id          purch_time\n",
       "1      1343452 2020-11-20 20:37:40\n",
       "3      1287352 2020-11-18 15:37:09\n",
       "5      1276338 2020-11-27 04:30:56\n",
       "7      1291792 2020-11-24 13:28:05\n",
       "9      1397741 2020-11-17 12:13:37\n",
       "...        ...                 ...\n",
       "66196  1400795 2020-11-09 14:44:50\n",
       "66198  1223473 2020-11-13 08:55:06\n",
       "66200  1177147 2020-11-11 22:14:44\n",
       "66202  1248667 2020-11-07 14:45:38\n",
       "66204  1210538 2020-11-10 01:37:12\n",
       "\n",
       "[33092 rows x 2 columns]"
      ]
     },
     "execution_count": 35,
     "metadata": {},
     "output_type": "execute_result"
    }
   ],
   "source": [
    "new_events_purch_purch"
   ]
  },
  {
   "cell_type": "code",
   "execution_count": 36,
   "metadata": {},
   "outputs": [],
   "source": [
    "newest_events = pd.merge(new_events_purch_reg,\n",
    "                        new_events_purch_purch,\n",
    "                        how = 'inner',\n",
    "                        on = 'user_id')\n",
    "newest_events = newest_events[['user_id', 'reg_time', 'purch_time', 'test_group', 'order_sum']]"
   ]
  },
  {
   "cell_type": "code",
   "execution_count": 37,
   "metadata": {
    "scrolled": true
   },
   "outputs": [
    {
     "data": {
      "text/html": [
       "<div>\n",
       "<style scoped>\n",
       "    .dataframe tbody tr th:only-of-type {\n",
       "        vertical-align: middle;\n",
       "    }\n",
       "\n",
       "    .dataframe tbody tr th {\n",
       "        vertical-align: top;\n",
       "    }\n",
       "\n",
       "    .dataframe thead th {\n",
       "        text-align: right;\n",
       "    }\n",
       "</style>\n",
       "<table border=\"1\" class=\"dataframe\">\n",
       "  <thead>\n",
       "    <tr style=\"text-align: right;\">\n",
       "      <th></th>\n",
       "      <th>user_id</th>\n",
       "      <th>reg_time</th>\n",
       "      <th>purch_time</th>\n",
       "      <th>test_group</th>\n",
       "      <th>order_sum</th>\n",
       "    </tr>\n",
       "  </thead>\n",
       "  <tbody>\n",
       "    <tr>\n",
       "      <th>0</th>\n",
       "      <td>1343452</td>\n",
       "      <td>2020-11-19 15:56:34</td>\n",
       "      <td>2020-11-20 20:37:40</td>\n",
       "      <td>small_increase</td>\n",
       "      <td>4023.0</td>\n",
       "    </tr>\n",
       "    <tr>\n",
       "      <th>1</th>\n",
       "      <td>1287352</td>\n",
       "      <td>2020-11-13 17:30:22</td>\n",
       "      <td>2020-11-18 15:37:09</td>\n",
       "      <td>control</td>\n",
       "      <td>3285.0</td>\n",
       "    </tr>\n",
       "    <tr>\n",
       "      <th>2</th>\n",
       "      <td>1276338</td>\n",
       "      <td>2020-11-24 03:25:42</td>\n",
       "      <td>2020-11-27 04:30:56</td>\n",
       "      <td>control</td>\n",
       "      <td>6598.0</td>\n",
       "    </tr>\n",
       "    <tr>\n",
       "      <th>3</th>\n",
       "      <td>1291792</td>\n",
       "      <td>2020-11-23 02:30:08</td>\n",
       "      <td>2020-11-24 13:28:05</td>\n",
       "      <td>big_increase</td>\n",
       "      <td>2305.0</td>\n",
       "    </tr>\n",
       "    <tr>\n",
       "      <th>4</th>\n",
       "      <td>1397741</td>\n",
       "      <td>2020-11-13 10:29:43</td>\n",
       "      <td>2020-11-17 12:13:37</td>\n",
       "      <td>control</td>\n",
       "      <td>1985.0</td>\n",
       "    </tr>\n",
       "    <tr>\n",
       "      <th>...</th>\n",
       "      <td>...</td>\n",
       "      <td>...</td>\n",
       "      <td>...</td>\n",
       "      <td>...</td>\n",
       "      <td>...</td>\n",
       "    </tr>\n",
       "    <tr>\n",
       "      <th>33108</th>\n",
       "      <td>1400795</td>\n",
       "      <td>2020-11-09 10:45:59</td>\n",
       "      <td>2020-11-09 14:44:50</td>\n",
       "      <td>big_increase</td>\n",
       "      <td>1602.0</td>\n",
       "    </tr>\n",
       "    <tr>\n",
       "      <th>33109</th>\n",
       "      <td>1223473</td>\n",
       "      <td>2020-11-12 14:40:09</td>\n",
       "      <td>2020-11-13 08:55:06</td>\n",
       "      <td>control</td>\n",
       "      <td>2269.0</td>\n",
       "    </tr>\n",
       "    <tr>\n",
       "      <th>33110</th>\n",
       "      <td>1177147</td>\n",
       "      <td>2020-11-11 16:09:26</td>\n",
       "      <td>2020-11-11 22:14:44</td>\n",
       "      <td>big_increase</td>\n",
       "      <td>7642.0</td>\n",
       "    </tr>\n",
       "    <tr>\n",
       "      <th>33111</th>\n",
       "      <td>1248667</td>\n",
       "      <td>2020-11-04 05:18:36</td>\n",
       "      <td>2020-11-07 14:45:38</td>\n",
       "      <td>big_increase</td>\n",
       "      <td>4273.0</td>\n",
       "    </tr>\n",
       "    <tr>\n",
       "      <th>33112</th>\n",
       "      <td>1210538</td>\n",
       "      <td>2020-11-09 20:40:37</td>\n",
       "      <td>2020-11-10 01:37:12</td>\n",
       "      <td>small_increase</td>\n",
       "      <td>7392.0</td>\n",
       "    </tr>\n",
       "  </tbody>\n",
       "</table>\n",
       "<p>33113 rows × 5 columns</p>\n",
       "</div>"
      ],
      "text/plain": [
       "       user_id            reg_time          purch_time      test_group  \\\n",
       "0      1343452 2020-11-19 15:56:34 2020-11-20 20:37:40  small_increase   \n",
       "1      1287352 2020-11-13 17:30:22 2020-11-18 15:37:09         control   \n",
       "2      1276338 2020-11-24 03:25:42 2020-11-27 04:30:56         control   \n",
       "3      1291792 2020-11-23 02:30:08 2020-11-24 13:28:05    big_increase   \n",
       "4      1397741 2020-11-13 10:29:43 2020-11-17 12:13:37         control   \n",
       "...        ...                 ...                 ...             ...   \n",
       "33108  1400795 2020-11-09 10:45:59 2020-11-09 14:44:50    big_increase   \n",
       "33109  1223473 2020-11-12 14:40:09 2020-11-13 08:55:06         control   \n",
       "33110  1177147 2020-11-11 16:09:26 2020-11-11 22:14:44    big_increase   \n",
       "33111  1248667 2020-11-04 05:18:36 2020-11-07 14:45:38    big_increase   \n",
       "33112  1210538 2020-11-09 20:40:37 2020-11-10 01:37:12  small_increase   \n",
       "\n",
       "       order_sum  \n",
       "0         4023.0  \n",
       "1         3285.0  \n",
       "2         6598.0  \n",
       "3         2305.0  \n",
       "4         1985.0  \n",
       "...          ...  \n",
       "33108     1602.0  \n",
       "33109     2269.0  \n",
       "33110     7642.0  \n",
       "33111     4273.0  \n",
       "33112     7392.0  \n",
       "\n",
       "[33113 rows x 5 columns]"
      ]
     },
     "execution_count": 37,
     "metadata": {},
     "output_type": "execute_result"
    }
   ],
   "source": [
    "newest_events"
   ]
  },
  {
   "cell_type": "code",
   "execution_count": 38,
   "metadata": {},
   "outputs": [],
   "source": [
    "newest_events['time_delta'] = newest_events['purch_time'] - newest_events['reg_time']"
   ]
  },
  {
   "cell_type": "code",
   "execution_count": 39,
   "metadata": {},
   "outputs": [
    {
     "data": {
      "text/html": [
       "<div>\n",
       "<style scoped>\n",
       "    .dataframe tbody tr th:only-of-type {\n",
       "        vertical-align: middle;\n",
       "    }\n",
       "\n",
       "    .dataframe tbody tr th {\n",
       "        vertical-align: top;\n",
       "    }\n",
       "\n",
       "    .dataframe thead th {\n",
       "        text-align: right;\n",
       "    }\n",
       "</style>\n",
       "<table border=\"1\" class=\"dataframe\">\n",
       "  <thead>\n",
       "    <tr style=\"text-align: right;\">\n",
       "      <th></th>\n",
       "      <th>user_id</th>\n",
       "      <th>reg_time</th>\n",
       "      <th>purch_time</th>\n",
       "      <th>test_group</th>\n",
       "      <th>order_sum</th>\n",
       "      <th>time_delta</th>\n",
       "    </tr>\n",
       "  </thead>\n",
       "  <tbody>\n",
       "    <tr>\n",
       "      <th>0</th>\n",
       "      <td>1343452</td>\n",
       "      <td>2020-11-19 15:56:34</td>\n",
       "      <td>2020-11-20 20:37:40</td>\n",
       "      <td>small_increase</td>\n",
       "      <td>4023.0</td>\n",
       "      <td>1 days 04:41:06</td>\n",
       "    </tr>\n",
       "    <tr>\n",
       "      <th>1</th>\n",
       "      <td>1287352</td>\n",
       "      <td>2020-11-13 17:30:22</td>\n",
       "      <td>2020-11-18 15:37:09</td>\n",
       "      <td>control</td>\n",
       "      <td>3285.0</td>\n",
       "      <td>4 days 22:06:47</td>\n",
       "    </tr>\n",
       "    <tr>\n",
       "      <th>2</th>\n",
       "      <td>1276338</td>\n",
       "      <td>2020-11-24 03:25:42</td>\n",
       "      <td>2020-11-27 04:30:56</td>\n",
       "      <td>control</td>\n",
       "      <td>6598.0</td>\n",
       "      <td>3 days 01:05:14</td>\n",
       "    </tr>\n",
       "    <tr>\n",
       "      <th>3</th>\n",
       "      <td>1291792</td>\n",
       "      <td>2020-11-23 02:30:08</td>\n",
       "      <td>2020-11-24 13:28:05</td>\n",
       "      <td>big_increase</td>\n",
       "      <td>2305.0</td>\n",
       "      <td>1 days 10:57:57</td>\n",
       "    </tr>\n",
       "    <tr>\n",
       "      <th>4</th>\n",
       "      <td>1397741</td>\n",
       "      <td>2020-11-13 10:29:43</td>\n",
       "      <td>2020-11-17 12:13:37</td>\n",
       "      <td>control</td>\n",
       "      <td>1985.0</td>\n",
       "      <td>4 days 01:43:54</td>\n",
       "    </tr>\n",
       "  </tbody>\n",
       "</table>\n",
       "</div>"
      ],
      "text/plain": [
       "   user_id            reg_time          purch_time      test_group  order_sum  \\\n",
       "0  1343452 2020-11-19 15:56:34 2020-11-20 20:37:40  small_increase     4023.0   \n",
       "1  1287352 2020-11-13 17:30:22 2020-11-18 15:37:09         control     3285.0   \n",
       "2  1276338 2020-11-24 03:25:42 2020-11-27 04:30:56         control     6598.0   \n",
       "3  1291792 2020-11-23 02:30:08 2020-11-24 13:28:05    big_increase     2305.0   \n",
       "4  1397741 2020-11-13 10:29:43 2020-11-17 12:13:37         control     1985.0   \n",
       "\n",
       "       time_delta  \n",
       "0 1 days 04:41:06  \n",
       "1 4 days 22:06:47  \n",
       "2 3 days 01:05:14  \n",
       "3 1 days 10:57:57  \n",
       "4 4 days 01:43:54  "
      ]
     },
     "execution_count": 39,
     "metadata": {},
     "output_type": "execute_result"
    }
   ],
   "source": [
    "newest_events.head()"
   ]
  },
  {
   "cell_type": "code",
   "execution_count": 40,
   "metadata": {},
   "outputs": [],
   "source": [
    "import numpy as np"
   ]
  },
  {
   "cell_type": "code",
   "execution_count": 41,
   "metadata": {},
   "outputs": [],
   "source": [
    "newest_events['time_delta'] = newest_events['time_delta'] / np.timedelta64(1, 'D') \n",
    "#Преобразовал timedelta во float"
   ]
  },
  {
   "cell_type": "code",
   "execution_count": 42,
   "metadata": {},
   "outputs": [
    {
     "data": {
      "text/html": [
       "<div>\n",
       "<style scoped>\n",
       "    .dataframe tbody tr th:only-of-type {\n",
       "        vertical-align: middle;\n",
       "    }\n",
       "\n",
       "    .dataframe tbody tr th {\n",
       "        vertical-align: top;\n",
       "    }\n",
       "\n",
       "    .dataframe thead th {\n",
       "        text-align: right;\n",
       "    }\n",
       "</style>\n",
       "<table border=\"1\" class=\"dataframe\">\n",
       "  <thead>\n",
       "    <tr style=\"text-align: right;\">\n",
       "      <th></th>\n",
       "      <th>user_id</th>\n",
       "      <th>reg_time</th>\n",
       "      <th>purch_time</th>\n",
       "      <th>test_group</th>\n",
       "      <th>order_sum</th>\n",
       "      <th>time_delta</th>\n",
       "    </tr>\n",
       "  </thead>\n",
       "  <tbody>\n",
       "    <tr>\n",
       "      <th>0</th>\n",
       "      <td>1343452</td>\n",
       "      <td>2020-11-19 15:56:34</td>\n",
       "      <td>2020-11-20 20:37:40</td>\n",
       "      <td>small_increase</td>\n",
       "      <td>4023.0</td>\n",
       "      <td>1.195208</td>\n",
       "    </tr>\n",
       "    <tr>\n",
       "      <th>1</th>\n",
       "      <td>1287352</td>\n",
       "      <td>2020-11-13 17:30:22</td>\n",
       "      <td>2020-11-18 15:37:09</td>\n",
       "      <td>control</td>\n",
       "      <td>3285.0</td>\n",
       "      <td>4.921377</td>\n",
       "    </tr>\n",
       "    <tr>\n",
       "      <th>2</th>\n",
       "      <td>1276338</td>\n",
       "      <td>2020-11-24 03:25:42</td>\n",
       "      <td>2020-11-27 04:30:56</td>\n",
       "      <td>control</td>\n",
       "      <td>6598.0</td>\n",
       "      <td>3.045301</td>\n",
       "    </tr>\n",
       "    <tr>\n",
       "      <th>3</th>\n",
       "      <td>1291792</td>\n",
       "      <td>2020-11-23 02:30:08</td>\n",
       "      <td>2020-11-24 13:28:05</td>\n",
       "      <td>big_increase</td>\n",
       "      <td>2305.0</td>\n",
       "      <td>1.456910</td>\n",
       "    </tr>\n",
       "    <tr>\n",
       "      <th>4</th>\n",
       "      <td>1397741</td>\n",
       "      <td>2020-11-13 10:29:43</td>\n",
       "      <td>2020-11-17 12:13:37</td>\n",
       "      <td>control</td>\n",
       "      <td>1985.0</td>\n",
       "      <td>4.072153</td>\n",
       "    </tr>\n",
       "  </tbody>\n",
       "</table>\n",
       "</div>"
      ],
      "text/plain": [
       "   user_id            reg_time          purch_time      test_group  order_sum  \\\n",
       "0  1343452 2020-11-19 15:56:34 2020-11-20 20:37:40  small_increase     4023.0   \n",
       "1  1287352 2020-11-13 17:30:22 2020-11-18 15:37:09         control     3285.0   \n",
       "2  1276338 2020-11-24 03:25:42 2020-11-27 04:30:56         control     6598.0   \n",
       "3  1291792 2020-11-23 02:30:08 2020-11-24 13:28:05    big_increase     2305.0   \n",
       "4  1397741 2020-11-13 10:29:43 2020-11-17 12:13:37         control     1985.0   \n",
       "\n",
       "   time_delta  \n",
       "0    1.195208  \n",
       "1    4.921377  \n",
       "2    3.045301  \n",
       "3    1.456910  \n",
       "4    4.072153  "
      ]
     },
     "execution_count": 42,
     "metadata": {},
     "output_type": "execute_result"
    }
   ],
   "source": [
    "newest_events.head()"
   ]
  },
  {
   "cell_type": "code",
   "execution_count": 43,
   "metadata": {},
   "outputs": [
    {
     "data": {
      "text/plain": [
       "24.12853009259259"
      ]
     },
     "execution_count": 43,
     "metadata": {},
     "output_type": "execute_result"
    }
   ],
   "source": [
    "np.percentile(newest_events['time_delta'], 100)"
   ]
  },
  {
   "cell_type": "code",
   "execution_count": 44,
   "metadata": {},
   "outputs": [
    {
     "data": {
      "text/plain": [
       "5.984907407407407"
      ]
     },
     "execution_count": 44,
     "metadata": {},
     "output_type": "execute_result"
    }
   ],
   "source": [
    "np.percentile(newest_events['time_delta'], 95) #Подходящее значение"
   ]
  },
  {
   "cell_type": "code",
   "execution_count": 45,
   "metadata": {},
   "outputs": [],
   "source": [
    "perc_95 = round(np.percentile(newest_events['time_delta'], 95), 1)"
   ]
  },
  {
   "cell_type": "code",
   "execution_count": 46,
   "metadata": {},
   "outputs": [
    {
     "name": "stderr",
     "output_type": "stream",
     "text": [
      "C:\\Users\\Roman\\anaconda3\\lib\\site-packages\\seaborn\\distributions.py:2551: FutureWarning: `distplot` is a deprecated function and will be removed in a future version. Please adapt your code to use either `displot` (a figure-level function with similar flexibility) or `histplot` (an axes-level function for histograms).\n",
      "  warnings.warn(msg, FutureWarning)\n"
     ]
    },
    {
     "data": {
      "image/png": "[encoded data removed]",
      "text/plain": [
       "<Figure size 1152x648 with 1 Axes>"
      ]
     },
     "metadata": {
      "needs_background": "light"
     },
     "output_type": "display_data"
    }
   ],
   "source": [
    "plt.figure(figsize = (16,9))\n",
    "sns.distplot(newest_events['time_delta'])\n",
    "plt.vlines(perc_95, ymin = 0, ymax = 0.5, linestyles = 'dashed', label = f'95-й перцентиль - {perc_95} дней')\n",
    "plt.title('Распределение времени между регистрацией и покупкой')\n",
    "plt.xlabel('Количество дней')\n",
    "plt.ylabel('Количество пользователей')\n",
    "plt.legend()\n",
    "plt.show()"
   ]
  },
  {
   "cell_type": "code",
   "execution_count": 47,
   "metadata": {},
   "outputs": [
    {
     "data": {
      "text/html": [
       "<div>\n",
       "<style scoped>\n",
       "    .dataframe tbody tr th:only-of-type {\n",
       "        vertical-align: middle;\n",
       "    }\n",
       "\n",
       "    .dataframe tbody tr th {\n",
       "        vertical-align: top;\n",
       "    }\n",
       "\n",
       "    .dataframe thead th {\n",
       "        text-align: right;\n",
       "    }\n",
       "</style>\n",
       "<table border=\"1\" class=\"dataframe\">\n",
       "  <thead>\n",
       "    <tr style=\"text-align: right;\">\n",
       "      <th></th>\n",
       "      <th>user_id</th>\n",
       "      <th>device</th>\n",
       "      <th>geo</th>\n",
       "      <th>marketing</th>\n",
       "    </tr>\n",
       "    <tr>\n",
       "      <th>registered_at</th>\n",
       "      <th></th>\n",
       "      <th></th>\n",
       "      <th></th>\n",
       "      <th></th>\n",
       "    </tr>\n",
       "  </thead>\n",
       "  <tbody>\n",
       "    <tr>\n",
       "      <th>2020-11-02 13:42:05</th>\n",
       "      <td>1388561</td>\n",
       "      <td>desktop</td>\n",
       "      <td>msk</td>\n",
       "      <td>organic</td>\n",
       "    </tr>\n",
       "    <tr>\n",
       "      <th>2020-11-02 13:42:15</th>\n",
       "      <td>1247372</td>\n",
       "      <td>desktop</td>\n",
       "      <td>msk</td>\n",
       "      <td>organic</td>\n",
       "    </tr>\n",
       "    <tr>\n",
       "      <th>2020-11-02 13:42:21</th>\n",
       "      <td>1203184</td>\n",
       "      <td>mobile</td>\n",
       "      <td>regions</td>\n",
       "      <td>organic</td>\n",
       "    </tr>\n",
       "    <tr>\n",
       "      <th>2020-11-02 13:42:26</th>\n",
       "      <td>1284242</td>\n",
       "      <td>desktop</td>\n",
       "      <td>regions</td>\n",
       "      <td>referral</td>\n",
       "    </tr>\n",
       "    <tr>\n",
       "      <th>2020-11-02 13:42:27</th>\n",
       "      <td>1191722</td>\n",
       "      <td>mobile</td>\n",
       "      <td>msk</td>\n",
       "      <td>cpc</td>\n",
       "    </tr>\n",
       "    <tr>\n",
       "      <th>...</th>\n",
       "      <td>...</td>\n",
       "      <td>...</td>\n",
       "      <td>...</td>\n",
       "      <td>...</td>\n",
       "    </tr>\n",
       "    <tr>\n",
       "      <th>2020-11-24 13:41:18</th>\n",
       "      <td>1317510</td>\n",
       "      <td>tablet</td>\n",
       "      <td>msk</td>\n",
       "      <td>organic</td>\n",
       "    </tr>\n",
       "    <tr>\n",
       "      <th>2020-11-24 13:41:19</th>\n",
       "      <td>1274195</td>\n",
       "      <td>mobile</td>\n",
       "      <td>msk</td>\n",
       "      <td>organic</td>\n",
       "    </tr>\n",
       "    <tr>\n",
       "      <th>2020-11-24 13:41:44</th>\n",
       "      <td>1308986</td>\n",
       "      <td>desktop</td>\n",
       "      <td>regions</td>\n",
       "      <td>organic</td>\n",
       "    </tr>\n",
       "    <tr>\n",
       "      <th>2020-11-24 13:41:52</th>\n",
       "      <td>1302238</td>\n",
       "      <td>desktop</td>\n",
       "      <td>spb</td>\n",
       "      <td>organic</td>\n",
       "    </tr>\n",
       "    <tr>\n",
       "      <th>2020-11-24 13:41:54</th>\n",
       "      <td>1386276</td>\n",
       "      <td>desktop</td>\n",
       "      <td>msk</td>\n",
       "      <td>organic</td>\n",
       "    </tr>\n",
       "  </tbody>\n",
       "</table>\n",
       "<p>271538 rows × 4 columns</p>\n",
       "</div>"
      ],
      "text/plain": [
       "                     user_id   device      geo marketing\n",
       "registered_at                                           \n",
       "2020-11-02 13:42:05  1388561  desktop      msk   organic\n",
       "2020-11-02 13:42:15  1247372  desktop      msk   organic\n",
       "2020-11-02 13:42:21  1203184   mobile  regions   organic\n",
       "2020-11-02 13:42:26  1284242  desktop  regions  referral\n",
       "2020-11-02 13:42:27  1191722   mobile      msk       cpc\n",
       "...                      ...      ...      ...       ...\n",
       "2020-11-24 13:41:18  1317510   tablet      msk   organic\n",
       "2020-11-24 13:41:19  1274195   mobile      msk   organic\n",
       "2020-11-24 13:41:44  1308986  desktop  regions   organic\n",
       "2020-11-24 13:41:52  1302238  desktop      spb   organic\n",
       "2020-11-24 13:41:54  1386276  desktop      msk   organic\n",
       "\n",
       "[271538 rows x 4 columns]"
      ]
     },
     "execution_count": 47,
     "metadata": {},
     "output_type": "execute_result"
    }
   ],
   "source": [
    "registrations.groupby('registered_at').max()"
   ]
  },
  {
   "cell_type": "markdown",
   "metadata": {},
   "source": [
    "- Очистим данные с учетом окна конверсии. Так как последняя регистрация была сделана 24 ноября, с учетом окна конверсии в 6 дней, нам понадобятся данные по 30 ноября. Соответственно, декабрь не нужен.\n",
    "- Строим гистограмму для сегментов\n",
    "- Вычисляем хи квадрат..."
   ]
  },
  {
   "cell_type": "markdown",
   "metadata": {},
   "source": [
    "Registrations - дф с регистрациями только за ноябрь, то что нам нужно. Соединить registrations c new_events, так как в нем есть данные по сегментам и покупки. Предварительно необходимо из new_events вытащить только данные с покупками за ноябрь.\n",
    "- отделить от new_events только покупки\n",
    "- отсортировать за период: ноябрь"
   ]
  },
  {
   "cell_type": "code",
   "execution_count": 48,
   "metadata": {},
   "outputs": [],
   "source": [
    "from datetime import datetime, timedelta"
   ]
  },
  {
   "cell_type": "code",
   "execution_count": 50,
   "metadata": {},
   "outputs": [],
   "source": [
    "november_events = new_events.loc[(new_events.timestamp >= datetime(2020,11,1))\n",
    "                                  & (new_events.timestamp < datetime(2020,12,1))]\n",
    "november_events = pd.DataFrame(november_events)"
   ]
  },
  {
   "cell_type": "code",
   "execution_count": 51,
   "metadata": {
    "scrolled": true
   },
   "outputs": [
    {
     "data": {
      "text/html": [
       "<div>\n",
       "<style scoped>\n",
       "    .dataframe tbody tr th:only-of-type {\n",
       "        vertical-align: middle;\n",
       "    }\n",
       "\n",
       "    .dataframe tbody tr th {\n",
       "        vertical-align: top;\n",
       "    }\n",
       "\n",
       "    .dataframe thead th {\n",
       "        text-align: right;\n",
       "    }\n",
       "</style>\n",
       "<table border=\"1\" class=\"dataframe\">\n",
       "  <thead>\n",
       "    <tr style=\"text-align: right;\">\n",
       "      <th></th>\n",
       "      <th>user_id</th>\n",
       "      <th>timestamp</th>\n",
       "      <th>test_group</th>\n",
       "      <th>event</th>\n",
       "    </tr>\n",
       "  </thead>\n",
       "  <tbody>\n",
       "    <tr>\n",
       "      <th>0</th>\n",
       "      <td>1256666</td>\n",
       "      <td>2020-11-19 12:14:20</td>\n",
       "      <td>big_increase</td>\n",
       "      <td>registration</td>\n",
       "    </tr>\n",
       "    <tr>\n",
       "      <th>1</th>\n",
       "      <td>1225937</td>\n",
       "      <td>2020-11-23 03:37:05</td>\n",
       "      <td>small_increase</td>\n",
       "      <td>registration</td>\n",
       "    </tr>\n",
       "    <tr>\n",
       "      <th>2</th>\n",
       "      <td>1265347</td>\n",
       "      <td>2020-11-19 16:15:57</td>\n",
       "      <td>small_increase</td>\n",
       "      <td>registration</td>\n",
       "    </tr>\n",
       "    <tr>\n",
       "      <th>3</th>\n",
       "      <td>1332763</td>\n",
       "      <td>2020-11-06 03:10:02</td>\n",
       "      <td>small_increase</td>\n",
       "      <td>registration</td>\n",
       "    </tr>\n",
       "    <tr>\n",
       "      <th>4</th>\n",
       "      <td>1317792</td>\n",
       "      <td>2020-11-17 00:45:55</td>\n",
       "      <td>control</td>\n",
       "      <td>registration</td>\n",
       "    </tr>\n",
       "    <tr>\n",
       "      <th>...</th>\n",
       "      <td>...</td>\n",
       "      <td>...</td>\n",
       "      <td>...</td>\n",
       "      <td>...</td>\n",
       "    </tr>\n",
       "    <tr>\n",
       "      <th>327165</th>\n",
       "      <td>1268139</td>\n",
       "      <td>2020-11-19 15:11:26</td>\n",
       "      <td>small_increase</td>\n",
       "      <td>registration</td>\n",
       "    </tr>\n",
       "    <tr>\n",
       "      <th>327166</th>\n",
       "      <td>1336773</td>\n",
       "      <td>2020-11-17 13:01:38</td>\n",
       "      <td>small_increase</td>\n",
       "      <td>registration</td>\n",
       "    </tr>\n",
       "    <tr>\n",
       "      <th>327167</th>\n",
       "      <td>1400394</td>\n",
       "      <td>2020-11-17 18:05:28</td>\n",
       "      <td>control</td>\n",
       "      <td>registration</td>\n",
       "    </tr>\n",
       "    <tr>\n",
       "      <th>327168</th>\n",
       "      <td>1210538</td>\n",
       "      <td>2020-11-09 20:40:37</td>\n",
       "      <td>small_increase</td>\n",
       "      <td>registration</td>\n",
       "    </tr>\n",
       "    <tr>\n",
       "      <th>327169</th>\n",
       "      <td>1210538</td>\n",
       "      <td>2020-11-10 01:37:12</td>\n",
       "      <td></td>\n",
       "      <td>purchase</td>\n",
       "    </tr>\n",
       "  </tbody>\n",
       "</table>\n",
       "<p>327031 rows × 4 columns</p>\n",
       "</div>"
      ],
      "text/plain": [
       "        user_id           timestamp      test_group         event\n",
       "0       1256666 2020-11-19 12:14:20    big_increase  registration\n",
       "1       1225937 2020-11-23 03:37:05  small_increase  registration\n",
       "2       1265347 2020-11-19 16:15:57  small_increase  registration\n",
       "3       1332763 2020-11-06 03:10:02  small_increase  registration\n",
       "4       1317792 2020-11-17 00:45:55         control  registration\n",
       "...         ...                 ...             ...           ...\n",
       "327165  1268139 2020-11-19 15:11:26  small_increase  registration\n",
       "327166  1336773 2020-11-17 13:01:38  small_increase  registration\n",
       "327167  1400394 2020-11-17 18:05:28         control  registration\n",
       "327168  1210538 2020-11-09 20:40:37  small_increase  registration\n",
       "327169  1210538 2020-11-10 01:37:12                      purchase\n",
       "\n",
       "[327031 rows x 4 columns]"
      ]
     },
     "execution_count": 51,
     "metadata": {},
     "output_type": "execute_result"
    }
   ],
   "source": [
    "november_events"
   ]
  },
  {
   "cell_type": "markdown",
   "metadata": {},
   "source": [
    "Далее я разбиваю данные по сегментам чтобы увидеть есть ли какие-либо существенные разхождения между группами в каждом сегменте. Для этого построю гистаграмму."
   ]
  },
  {
   "cell_type": "code",
   "execution_count": 52,
   "metadata": {
    "scrolled": true
   },
   "outputs": [],
   "source": [
    "november_events_segments = pd.merge(november_events,\n",
    "                                   registrations,\n",
    "                                   how = 'inner',\n",
    "                                   on = 'user_id')\n",
    "november_events_segment = november_events_segments.drop('registered_at', 1).dropna()"
   ]
  },
  {
   "cell_type": "code",
   "execution_count": 53,
   "metadata": {},
   "outputs": [],
   "source": [
    "def plot_segment_distribution(data, segment_columns, test_factor):\n",
    "    for segment in segment_columns:\n",
    "        aggregated_data = data.groupby(by = [test_factor, segment])['user_id'].\\\n",
    "        count().reset_index()\n",
    "        sns.catplot(x = segment,\n",
    "                   y = 'user_id',\n",
    "                   data = aggregated_data,\n",
    "                   hue = test_factor,\n",
    "                   kind = 'bar',\n",
    "                   height = 5,\n",
    "                   aspect = 2)"
   ]
  },
  {
   "cell_type": "code",
   "execution_count": 54,
   "metadata": {
    "scrolled": true
   },
   "outputs": [
    {
     "data": {
      "image/png": "[encoded data removed]",
      "text/plain": [
       "<Figure size 830x360 with 1 Axes>"
      ]
     },
     "metadata": {
      "needs_background": "light"
     },
     "output_type": "display_data"
    },
    {
     "data": {
      "image/png": "[encoded data removed]",
      "text/plain": [
       "<Figure size 830x360 with 1 Axes>"
      ]
     },
     "metadata": {
      "needs_background": "light"
     },
     "output_type": "display_data"
    },
    {
     "data": {
      "image/png": "[encoded data removed]",
      "text/plain": [
       "<Figure size 830x360 with 1 Axes>"
      ]
     },
     "metadata": {
      "needs_background": "light"
     },
     "output_type": "display_data"
    }
   ],
   "source": [
    "plot_segment_distribution(november_events_segment[november_events_segment['event'] == 'registration'],\n",
    "                         ['device', 'geo', 'marketing'],\n",
    "                         'test_group')"
   ]
  },
  {
   "cell_type": "markdown",
   "metadata": {},
   "source": [
    "Так как в данных по регистрациям нет существенных расхождений, нам не понадобятся какие либо корректировки в исходных данных."
   ]
  },
  {
   "cell_type": "code",
   "execution_count": 91,
   "metadata": {},
   "outputs": [
    {
     "data": {
      "text/html": [
       "<div>\n",
       "<style scoped>\n",
       "    .dataframe tbody tr th:only-of-type {\n",
       "        vertical-align: middle;\n",
       "    }\n",
       "\n",
       "    .dataframe tbody tr th {\n",
       "        vertical-align: top;\n",
       "    }\n",
       "\n",
       "    .dataframe thead th {\n",
       "        text-align: right;\n",
       "    }\n",
       "</style>\n",
       "<table border=\"1\" class=\"dataframe\">\n",
       "  <thead>\n",
       "    <tr style=\"text-align: right;\">\n",
       "      <th></th>\n",
       "      <th>user_id</th>\n",
       "      <th>timestamp</th>\n",
       "      <th>test_group</th>\n",
       "      <th>event</th>\n",
       "      <th>device</th>\n",
       "      <th>geo</th>\n",
       "      <th>marketing</th>\n",
       "    </tr>\n",
       "  </thead>\n",
       "  <tbody>\n",
       "    <tr>\n",
       "      <th>0</th>\n",
       "      <td>1256666</td>\n",
       "      <td>2020-11-19 12:14:20</td>\n",
       "      <td>big_increase</td>\n",
       "      <td>registration</td>\n",
       "      <td>desktop</td>\n",
       "      <td>regions</td>\n",
       "      <td>social</td>\n",
       "    </tr>\n",
       "    <tr>\n",
       "      <th>1</th>\n",
       "      <td>1225937</td>\n",
       "      <td>2020-11-23 03:37:05</td>\n",
       "      <td>small_increase</td>\n",
       "      <td>registration</td>\n",
       "      <td>desktop</td>\n",
       "      <td>world</td>\n",
       "      <td>cpc</td>\n",
       "    </tr>\n",
       "    <tr>\n",
       "      <th>2</th>\n",
       "      <td>1265347</td>\n",
       "      <td>2020-11-19 16:15:57</td>\n",
       "      <td>small_increase</td>\n",
       "      <td>registration</td>\n",
       "      <td>desktop</td>\n",
       "      <td>regions</td>\n",
       "      <td>cpc</td>\n",
       "    </tr>\n",
       "    <tr>\n",
       "      <th>3</th>\n",
       "      <td>1332763</td>\n",
       "      <td>2020-11-06 03:10:02</td>\n",
       "      <td>small_increase</td>\n",
       "      <td>registration</td>\n",
       "      <td>desktop</td>\n",
       "      <td>regions</td>\n",
       "      <td>organic</td>\n",
       "    </tr>\n",
       "    <tr>\n",
       "      <th>4</th>\n",
       "      <td>1317792</td>\n",
       "      <td>2020-11-17 00:45:55</td>\n",
       "      <td>control</td>\n",
       "      <td>registration</td>\n",
       "      <td>mobile</td>\n",
       "      <td>regions</td>\n",
       "      <td>organic</td>\n",
       "    </tr>\n",
       "    <tr>\n",
       "      <th>...</th>\n",
       "      <td>...</td>\n",
       "      <td>...</td>\n",
       "      <td>...</td>\n",
       "      <td>...</td>\n",
       "      <td>...</td>\n",
       "      <td>...</td>\n",
       "      <td>...</td>\n",
       "    </tr>\n",
       "    <tr>\n",
       "      <th>329423</th>\n",
       "      <td>1268139</td>\n",
       "      <td>2020-11-19 15:11:26</td>\n",
       "      <td>small_increase</td>\n",
       "      <td>registration</td>\n",
       "      <td>desktop</td>\n",
       "      <td>world</td>\n",
       "      <td>organic</td>\n",
       "    </tr>\n",
       "    <tr>\n",
       "      <th>329424</th>\n",
       "      <td>1336773</td>\n",
       "      <td>2020-11-17 13:01:38</td>\n",
       "      <td>small_increase</td>\n",
       "      <td>registration</td>\n",
       "      <td>desktop</td>\n",
       "      <td>spb</td>\n",
       "      <td>referral</td>\n",
       "    </tr>\n",
       "    <tr>\n",
       "      <th>329425</th>\n",
       "      <td>1400394</td>\n",
       "      <td>2020-11-17 18:05:28</td>\n",
       "      <td>control</td>\n",
       "      <td>registration</td>\n",
       "      <td>desktop</td>\n",
       "      <td>msk</td>\n",
       "      <td>organic</td>\n",
       "    </tr>\n",
       "    <tr>\n",
       "      <th>329426</th>\n",
       "      <td>1210538</td>\n",
       "      <td>2020-11-09 20:40:37</td>\n",
       "      <td>small_increase</td>\n",
       "      <td>registration</td>\n",
       "      <td>mobile</td>\n",
       "      <td>msk</td>\n",
       "      <td>organic</td>\n",
       "    </tr>\n",
       "    <tr>\n",
       "      <th>329427</th>\n",
       "      <td>1210538</td>\n",
       "      <td>2020-11-10 01:37:12</td>\n",
       "      <td></td>\n",
       "      <td>purchase</td>\n",
       "      <td>mobile</td>\n",
       "      <td>msk</td>\n",
       "      <td>organic</td>\n",
       "    </tr>\n",
       "  </tbody>\n",
       "</table>\n",
       "<p>327400 rows × 7 columns</p>\n",
       "</div>"
      ],
      "text/plain": [
       "        user_id           timestamp      test_group         event   device  \\\n",
       "0       1256666 2020-11-19 12:14:20    big_increase  registration  desktop   \n",
       "1       1225937 2020-11-23 03:37:05  small_increase  registration  desktop   \n",
       "2       1265347 2020-11-19 16:15:57  small_increase  registration  desktop   \n",
       "3       1332763 2020-11-06 03:10:02  small_increase  registration  desktop   \n",
       "4       1317792 2020-11-17 00:45:55         control  registration   mobile   \n",
       "...         ...                 ...             ...           ...      ...   \n",
       "329423  1268139 2020-11-19 15:11:26  small_increase  registration  desktop   \n",
       "329424  1336773 2020-11-17 13:01:38  small_increase  registration  desktop   \n",
       "329425  1400394 2020-11-17 18:05:28         control  registration  desktop   \n",
       "329426  1210538 2020-11-09 20:40:37  small_increase  registration   mobile   \n",
       "329427  1210538 2020-11-10 01:37:12                      purchase   mobile   \n",
       "\n",
       "            geo marketing  \n",
       "0       regions    social  \n",
       "1         world       cpc  \n",
       "2       regions       cpc  \n",
       "3       regions   organic  \n",
       "4       regions   organic  \n",
       "...         ...       ...  \n",
       "329423    world   organic  \n",
       "329424      spb  referral  \n",
       "329425      msk   organic  \n",
       "329426      msk   organic  \n",
       "329427      msk   organic  \n",
       "\n",
       "[327400 rows x 7 columns]"
      ]
     },
     "execution_count": 91,
     "metadata": {},
     "output_type": "execute_result"
    }
   ],
   "source": [
    "# Теперь приведу таблицу с данными в более удобный вид"
   ]
  },
  {
   "cell_type": "code",
   "execution_count": 55,
   "metadata": {},
   "outputs": [
    {
     "data": {
      "text/html": [
       "<div>\n",
       "<style scoped>\n",
       "    .dataframe tbody tr th:only-of-type {\n",
       "        vertical-align: middle;\n",
       "    }\n",
       "\n",
       "    .dataframe tbody tr th {\n",
       "        vertical-align: top;\n",
       "    }\n",
       "\n",
       "    .dataframe thead th {\n",
       "        text-align: right;\n",
       "    }\n",
       "</style>\n",
       "<table border=\"1\" class=\"dataframe\">\n",
       "  <thead>\n",
       "    <tr style=\"text-align: right;\">\n",
       "      <th></th>\n",
       "      <th>user_id</th>\n",
       "      <th>reg_time</th>\n",
       "      <th>test_group</th>\n",
       "      <th>device</th>\n",
       "      <th>geo</th>\n",
       "      <th>marketing</th>\n",
       "    </tr>\n",
       "  </thead>\n",
       "  <tbody>\n",
       "    <tr>\n",
       "      <th>0</th>\n",
       "      <td>1256666</td>\n",
       "      <td>2020-11-19 12:14:20</td>\n",
       "      <td>big_increase</td>\n",
       "      <td>desktop</td>\n",
       "      <td>regions</td>\n",
       "      <td>social</td>\n",
       "    </tr>\n",
       "    <tr>\n",
       "      <th>1</th>\n",
       "      <td>1225937</td>\n",
       "      <td>2020-11-23 03:37:05</td>\n",
       "      <td>small_increase</td>\n",
       "      <td>desktop</td>\n",
       "      <td>world</td>\n",
       "      <td>cpc</td>\n",
       "    </tr>\n",
       "    <tr>\n",
       "      <th>2</th>\n",
       "      <td>1265347</td>\n",
       "      <td>2020-11-19 16:15:57</td>\n",
       "      <td>small_increase</td>\n",
       "      <td>desktop</td>\n",
       "      <td>regions</td>\n",
       "      <td>cpc</td>\n",
       "    </tr>\n",
       "    <tr>\n",
       "      <th>3</th>\n",
       "      <td>1332763</td>\n",
       "      <td>2020-11-06 03:10:02</td>\n",
       "      <td>small_increase</td>\n",
       "      <td>desktop</td>\n",
       "      <td>regions</td>\n",
       "      <td>organic</td>\n",
       "    </tr>\n",
       "    <tr>\n",
       "      <th>4</th>\n",
       "      <td>1317792</td>\n",
       "      <td>2020-11-17 00:45:55</td>\n",
       "      <td>control</td>\n",
       "      <td>mobile</td>\n",
       "      <td>regions</td>\n",
       "      <td>organic</td>\n",
       "    </tr>\n",
       "    <tr>\n",
       "      <th>...</th>\n",
       "      <td>...</td>\n",
       "      <td>...</td>\n",
       "      <td>...</td>\n",
       "      <td>...</td>\n",
       "      <td>...</td>\n",
       "      <td>...</td>\n",
       "    </tr>\n",
       "    <tr>\n",
       "      <th>327025</th>\n",
       "      <td>1283426</td>\n",
       "      <td>2020-11-06 17:49:26</td>\n",
       "      <td>control</td>\n",
       "      <td>desktop</td>\n",
       "      <td>regions</td>\n",
       "      <td>cpc</td>\n",
       "    </tr>\n",
       "    <tr>\n",
       "      <th>327026</th>\n",
       "      <td>1268139</td>\n",
       "      <td>2020-11-19 15:11:26</td>\n",
       "      <td>small_increase</td>\n",
       "      <td>desktop</td>\n",
       "      <td>world</td>\n",
       "      <td>organic</td>\n",
       "    </tr>\n",
       "    <tr>\n",
       "      <th>327027</th>\n",
       "      <td>1336773</td>\n",
       "      <td>2020-11-17 13:01:38</td>\n",
       "      <td>small_increase</td>\n",
       "      <td>desktop</td>\n",
       "      <td>spb</td>\n",
       "      <td>referral</td>\n",
       "    </tr>\n",
       "    <tr>\n",
       "      <th>327028</th>\n",
       "      <td>1400394</td>\n",
       "      <td>2020-11-17 18:05:28</td>\n",
       "      <td>control</td>\n",
       "      <td>desktop</td>\n",
       "      <td>msk</td>\n",
       "      <td>organic</td>\n",
       "    </tr>\n",
       "    <tr>\n",
       "      <th>327029</th>\n",
       "      <td>1210538</td>\n",
       "      <td>2020-11-09 20:40:37</td>\n",
       "      <td>small_increase</td>\n",
       "      <td>mobile</td>\n",
       "      <td>msk</td>\n",
       "      <td>organic</td>\n",
       "    </tr>\n",
       "  </tbody>\n",
       "</table>\n",
       "<p>292078 rows × 6 columns</p>\n",
       "</div>"
      ],
      "text/plain": [
       "        user_id            reg_time      test_group   device      geo  \\\n",
       "0       1256666 2020-11-19 12:14:20    big_increase  desktop  regions   \n",
       "1       1225937 2020-11-23 03:37:05  small_increase  desktop    world   \n",
       "2       1265347 2020-11-19 16:15:57  small_increase  desktop  regions   \n",
       "3       1332763 2020-11-06 03:10:02  small_increase  desktop  regions   \n",
       "4       1317792 2020-11-17 00:45:55         control   mobile  regions   \n",
       "...         ...                 ...             ...      ...      ...   \n",
       "327025  1283426 2020-11-06 17:49:26         control  desktop  regions   \n",
       "327026  1268139 2020-11-19 15:11:26  small_increase  desktop    world   \n",
       "327027  1336773 2020-11-17 13:01:38  small_increase  desktop      spb   \n",
       "327028  1400394 2020-11-17 18:05:28         control  desktop      msk   \n",
       "327029  1210538 2020-11-09 20:40:37  small_increase   mobile      msk   \n",
       "\n",
       "       marketing  \n",
       "0         social  \n",
       "1            cpc  \n",
       "2            cpc  \n",
       "3        organic  \n",
       "4        organic  \n",
       "...          ...  \n",
       "327025       cpc  \n",
       "327026   organic  \n",
       "327027  referral  \n",
       "327028   organic  \n",
       "327029   organic  \n",
       "\n",
       "[292078 rows x 6 columns]"
      ]
     },
     "execution_count": 55,
     "metadata": {},
     "output_type": "execute_result"
    }
   ],
   "source": [
    "november_events_segment_reg = november_events_segment.loc[november_events_segment['event'] == 'registration'].\\\n",
    "rename(columns = {'timestamp':'reg_time'})\n",
    "november_events_segment_regs = november_events_segment_reg.drop('event', 1)\n",
    "november_events_segment_regs"
   ]
  },
  {
   "cell_type": "code",
   "execution_count": 56,
   "metadata": {},
   "outputs": [
    {
     "data": {
      "text/html": [
       "<div>\n",
       "<style scoped>\n",
       "    .dataframe tbody tr th:only-of-type {\n",
       "        vertical-align: middle;\n",
       "    }\n",
       "\n",
       "    .dataframe tbody tr th {\n",
       "        vertical-align: top;\n",
       "    }\n",
       "\n",
       "    .dataframe thead th {\n",
       "        text-align: right;\n",
       "    }\n",
       "</style>\n",
       "<table border=\"1\" class=\"dataframe\">\n",
       "  <thead>\n",
       "    <tr style=\"text-align: right;\">\n",
       "      <th></th>\n",
       "      <th>user_id</th>\n",
       "      <th>purch_time</th>\n",
       "    </tr>\n",
       "  </thead>\n",
       "  <tbody>\n",
       "    <tr>\n",
       "      <th>28</th>\n",
       "      <td>1343452</td>\n",
       "      <td>2020-11-20 20:37:40</td>\n",
       "    </tr>\n",
       "    <tr>\n",
       "      <th>31</th>\n",
       "      <td>1287352</td>\n",
       "      <td>2020-11-18 15:37:09</td>\n",
       "    </tr>\n",
       "    <tr>\n",
       "      <th>35</th>\n",
       "      <td>1276338</td>\n",
       "      <td>2020-11-27 04:30:56</td>\n",
       "    </tr>\n",
       "    <tr>\n",
       "      <th>57</th>\n",
       "      <td>1291792</td>\n",
       "      <td>2020-11-24 13:28:05</td>\n",
       "    </tr>\n",
       "    <tr>\n",
       "      <th>64</th>\n",
       "      <td>1397741</td>\n",
       "      <td>2020-11-17 12:13:37</td>\n",
       "    </tr>\n",
       "    <tr>\n",
       "      <th>...</th>\n",
       "      <td>...</td>\n",
       "      <td>...</td>\n",
       "    </tr>\n",
       "    <tr>\n",
       "      <th>326994</th>\n",
       "      <td>1400795</td>\n",
       "      <td>2020-11-09 14:44:50</td>\n",
       "    </tr>\n",
       "    <tr>\n",
       "      <th>326997</th>\n",
       "      <td>1223473</td>\n",
       "      <td>2020-11-13 08:55:06</td>\n",
       "    </tr>\n",
       "    <tr>\n",
       "      <th>327006</th>\n",
       "      <td>1177147</td>\n",
       "      <td>2020-11-11 22:14:44</td>\n",
       "    </tr>\n",
       "    <tr>\n",
       "      <th>327010</th>\n",
       "      <td>1248667</td>\n",
       "      <td>2020-11-07 14:45:38</td>\n",
       "    </tr>\n",
       "    <tr>\n",
       "      <th>327030</th>\n",
       "      <td>1210538</td>\n",
       "      <td>2020-11-10 01:37:12</td>\n",
       "    </tr>\n",
       "  </tbody>\n",
       "</table>\n",
       "<p>32925 rows × 2 columns</p>\n",
       "</div>"
      ],
      "text/plain": [
       "        user_id          purch_time\n",
       "28      1343452 2020-11-20 20:37:40\n",
       "31      1287352 2020-11-18 15:37:09\n",
       "35      1276338 2020-11-27 04:30:56\n",
       "57      1291792 2020-11-24 13:28:05\n",
       "64      1397741 2020-11-17 12:13:37\n",
       "...         ...                 ...\n",
       "326994  1400795 2020-11-09 14:44:50\n",
       "326997  1223473 2020-11-13 08:55:06\n",
       "327006  1177147 2020-11-11 22:14:44\n",
       "327010  1248667 2020-11-07 14:45:38\n",
       "327030  1210538 2020-11-10 01:37:12\n",
       "\n",
       "[32925 rows x 2 columns]"
      ]
     },
     "execution_count": 56,
     "metadata": {},
     "output_type": "execute_result"
    }
   ],
   "source": [
    "november_events_segment_purch = november_events_segment.loc[november_events_segment['event'] == 'purchase'].\\\n",
    "rename(columns = {'timestamp':'purch_time'})\n",
    "november_events_segment_purchs = november_events_segment_purch.drop('test_group', 1).drop('event', 1).\\\n",
    "drop('device', 1).drop('geo', 1).drop('marketing', 1)\n",
    "november_events_segment_purchs"
   ]
  },
  {
   "cell_type": "code",
   "execution_count": 57,
   "metadata": {},
   "outputs": [],
   "source": [
    "november_segments = pd.merge(november_events_segment_regs,\n",
    "                            november_events_segment_purchs,\n",
    "                             how = 'left',\n",
    "                             on = 'user_id')\n",
    "november_segments = november_segments[['user_id', 'reg_time', 'purch_time', 'test_group', 'device', 'geo', 'marketing']]"
   ]
  },
  {
   "cell_type": "code",
   "execution_count": 58,
   "metadata": {},
   "outputs": [
    {
     "data": {
      "text/html": [
       "<div>\n",
       "<style scoped>\n",
       "    .dataframe tbody tr th:only-of-type {\n",
       "        vertical-align: middle;\n",
       "    }\n",
       "\n",
       "    .dataframe tbody tr th {\n",
       "        vertical-align: top;\n",
       "    }\n",
       "\n",
       "    .dataframe thead th {\n",
       "        text-align: right;\n",
       "    }\n",
       "</style>\n",
       "<table border=\"1\" class=\"dataframe\">\n",
       "  <thead>\n",
       "    <tr style=\"text-align: right;\">\n",
       "      <th></th>\n",
       "      <th>user_id</th>\n",
       "      <th>reg_time</th>\n",
       "      <th>purch_time</th>\n",
       "      <th>test_group</th>\n",
       "      <th>device</th>\n",
       "      <th>geo</th>\n",
       "      <th>marketing</th>\n",
       "    </tr>\n",
       "  </thead>\n",
       "  <tbody>\n",
       "    <tr>\n",
       "      <th>0</th>\n",
       "      <td>1256666</td>\n",
       "      <td>2020-11-19 12:14:20</td>\n",
       "      <td>NaT</td>\n",
       "      <td>big_increase</td>\n",
       "      <td>desktop</td>\n",
       "      <td>regions</td>\n",
       "      <td>social</td>\n",
       "    </tr>\n",
       "    <tr>\n",
       "      <th>1</th>\n",
       "      <td>1225937</td>\n",
       "      <td>2020-11-23 03:37:05</td>\n",
       "      <td>NaT</td>\n",
       "      <td>small_increase</td>\n",
       "      <td>desktop</td>\n",
       "      <td>world</td>\n",
       "      <td>cpc</td>\n",
       "    </tr>\n",
       "    <tr>\n",
       "      <th>2</th>\n",
       "      <td>1265347</td>\n",
       "      <td>2020-11-19 16:15:57</td>\n",
       "      <td>NaT</td>\n",
       "      <td>small_increase</td>\n",
       "      <td>desktop</td>\n",
       "      <td>regions</td>\n",
       "      <td>cpc</td>\n",
       "    </tr>\n",
       "    <tr>\n",
       "      <th>3</th>\n",
       "      <td>1332763</td>\n",
       "      <td>2020-11-06 03:10:02</td>\n",
       "      <td>NaT</td>\n",
       "      <td>small_increase</td>\n",
       "      <td>desktop</td>\n",
       "      <td>regions</td>\n",
       "      <td>organic</td>\n",
       "    </tr>\n",
       "    <tr>\n",
       "      <th>4</th>\n",
       "      <td>1317792</td>\n",
       "      <td>2020-11-17 00:45:55</td>\n",
       "      <td>NaT</td>\n",
       "      <td>control</td>\n",
       "      <td>mobile</td>\n",
       "      <td>regions</td>\n",
       "      <td>organic</td>\n",
       "    </tr>\n",
       "    <tr>\n",
       "      <th>...</th>\n",
       "      <td>...</td>\n",
       "      <td>...</td>\n",
       "      <td>...</td>\n",
       "      <td>...</td>\n",
       "      <td>...</td>\n",
       "      <td>...</td>\n",
       "      <td>...</td>\n",
       "    </tr>\n",
       "    <tr>\n",
       "      <th>292073</th>\n",
       "      <td>1283426</td>\n",
       "      <td>2020-11-06 17:49:26</td>\n",
       "      <td>NaT</td>\n",
       "      <td>control</td>\n",
       "      <td>desktop</td>\n",
       "      <td>regions</td>\n",
       "      <td>cpc</td>\n",
       "    </tr>\n",
       "    <tr>\n",
       "      <th>292074</th>\n",
       "      <td>1268139</td>\n",
       "      <td>2020-11-19 15:11:26</td>\n",
       "      <td>NaT</td>\n",
       "      <td>small_increase</td>\n",
       "      <td>desktop</td>\n",
       "      <td>world</td>\n",
       "      <td>organic</td>\n",
       "    </tr>\n",
       "    <tr>\n",
       "      <th>292075</th>\n",
       "      <td>1336773</td>\n",
       "      <td>2020-11-17 13:01:38</td>\n",
       "      <td>NaT</td>\n",
       "      <td>small_increase</td>\n",
       "      <td>desktop</td>\n",
       "      <td>spb</td>\n",
       "      <td>referral</td>\n",
       "    </tr>\n",
       "    <tr>\n",
       "      <th>292076</th>\n",
       "      <td>1400394</td>\n",
       "      <td>2020-11-17 18:05:28</td>\n",
       "      <td>NaT</td>\n",
       "      <td>control</td>\n",
       "      <td>desktop</td>\n",
       "      <td>msk</td>\n",
       "      <td>organic</td>\n",
       "    </tr>\n",
       "    <tr>\n",
       "      <th>292077</th>\n",
       "      <td>1210538</td>\n",
       "      <td>2020-11-09 20:40:37</td>\n",
       "      <td>2020-11-10 01:37:12</td>\n",
       "      <td>small_increase</td>\n",
       "      <td>mobile</td>\n",
       "      <td>msk</td>\n",
       "      <td>organic</td>\n",
       "    </tr>\n",
       "  </tbody>\n",
       "</table>\n",
       "<p>292078 rows × 7 columns</p>\n",
       "</div>"
      ],
      "text/plain": [
       "        user_id            reg_time          purch_time      test_group  \\\n",
       "0       1256666 2020-11-19 12:14:20                 NaT    big_increase   \n",
       "1       1225937 2020-11-23 03:37:05                 NaT  small_increase   \n",
       "2       1265347 2020-11-19 16:15:57                 NaT  small_increase   \n",
       "3       1332763 2020-11-06 03:10:02                 NaT  small_increase   \n",
       "4       1317792 2020-11-17 00:45:55                 NaT         control   \n",
       "...         ...                 ...                 ...             ...   \n",
       "292073  1283426 2020-11-06 17:49:26                 NaT         control   \n",
       "292074  1268139 2020-11-19 15:11:26                 NaT  small_increase   \n",
       "292075  1336773 2020-11-17 13:01:38                 NaT  small_increase   \n",
       "292076  1400394 2020-11-17 18:05:28                 NaT         control   \n",
       "292077  1210538 2020-11-09 20:40:37 2020-11-10 01:37:12  small_increase   \n",
       "\n",
       "         device      geo marketing  \n",
       "0       desktop  regions    social  \n",
       "1       desktop    world       cpc  \n",
       "2       desktop  regions       cpc  \n",
       "3       desktop  regions   organic  \n",
       "4        mobile  regions   organic  \n",
       "...         ...      ...       ...  \n",
       "292073  desktop  regions       cpc  \n",
       "292074  desktop    world   organic  \n",
       "292075  desktop      spb  referral  \n",
       "292076  desktop      msk   organic  \n",
       "292077   mobile      msk   organic  \n",
       "\n",
       "[292078 rows x 7 columns]"
      ]
     },
     "execution_count": 58,
     "metadata": {},
     "output_type": "execute_result"
    }
   ],
   "source": [
    "november_segments"
   ]
  },
  {
   "cell_type": "markdown",
   "metadata": {},
   "source": [
    "Теперь проверим таблицу purchases на выбросы и удалим их"
   ]
  },
  {
   "cell_type": "code",
   "execution_count": 59,
   "metadata": {
    "scrolled": true
   },
   "outputs": [
    {
     "data": {
      "text/plain": [
       "(array([2.5469e+04, 5.2120e+03, 1.8160e+03, 5.8300e+02, 0.0000e+00,\n",
       "        0.0000e+00, 0.0000e+00, 0.0000e+00, 0.0000e+00, 0.0000e+00,\n",
       "        0.0000e+00, 0.0000e+00, 0.0000e+00, 0.0000e+00, 0.0000e+00,\n",
       "        0.0000e+00, 0.0000e+00, 0.0000e+00, 0.0000e+00, 0.0000e+00,\n",
       "        0.0000e+00, 0.0000e+00, 0.0000e+00, 0.0000e+00, 0.0000e+00,\n",
       "        0.0000e+00, 0.0000e+00, 0.0000e+00, 0.0000e+00, 0.0000e+00,\n",
       "        3.0000e+00, 0.0000e+00, 2.0000e+00, 0.0000e+00, 0.0000e+00,\n",
       "        0.0000e+00, 1.0000e+00, 0.0000e+00, 0.0000e+00, 0.0000e+00,\n",
       "        1.0000e+00, 1.0000e+00, 0.0000e+00, 0.0000e+00, 0.0000e+00,\n",
       "        1.0000e+00, 1.0000e+00, 0.0000e+00, 0.0000e+00, 2.0000e+00]),\n",
       " array([  1065. ,   4890.7,   8716.4,  12542.1,  16367.8,  20193.5,\n",
       "         24019.2,  27844.9,  31670.6,  35496.3,  39322. ,  43147.7,\n",
       "         46973.4,  50799.1,  54624.8,  58450.5,  62276.2,  66101.9,\n",
       "         69927.6,  73753.3,  77579. ,  81404.7,  85230.4,  89056.1,\n",
       "         92881.8,  96707.5, 100533.2, 104358.9, 108184.6, 112010.3,\n",
       "        115836. , 119661.7, 123487.4, 127313.1, 131138.8, 134964.5,\n",
       "        138790.2, 142615.9, 146441.6, 150267.3, 154093. , 157918.7,\n",
       "        161744.4, 165570.1, 169395.8, 173221.5, 177047.2, 180872.9,\n",
       "        184698.6, 188524.3, 192350. ]),\n",
       " <BarContainer object of 50 artists>)"
      ]
     },
     "execution_count": 59,
     "metadata": {},
     "output_type": "execute_result"
    },
    {
     "data": {
      "image/png": "[encoded data removed]",
      "text/plain": [
       "<Figure size 432x288 with 1 Axes>"
      ]
     },
     "metadata": {
      "needs_background": "light"
     },
     "output_type": "display_data"
    }
   ],
   "source": [
    "plt.hist(purchases.order_sum,\n",
    "        bins = 50,\n",
    "        log = True)"
   ]
  },
  {
   "cell_type": "markdown",
   "metadata": {},
   "source": [
    "Удалим покупки с чеком выше 25 тысяч рублей, так как это скорее всего оптовые заказы."
   ]
  },
  {
   "cell_type": "code",
   "execution_count": 60,
   "metadata": {},
   "outputs": [
    {
     "data": {
      "text/html": [
       "<div>\n",
       "<style scoped>\n",
       "    .dataframe tbody tr th:only-of-type {\n",
       "        vertical-align: middle;\n",
       "    }\n",
       "\n",
       "    .dataframe tbody tr th {\n",
       "        vertical-align: top;\n",
       "    }\n",
       "\n",
       "    .dataframe thead th {\n",
       "        text-align: right;\n",
       "    }\n",
       "</style>\n",
       "<table border=\"1\" class=\"dataframe\">\n",
       "  <thead>\n",
       "    <tr style=\"text-align: right;\">\n",
       "      <th></th>\n",
       "      <th>user_id</th>\n",
       "    </tr>\n",
       "    <tr>\n",
       "      <th>order_sum</th>\n",
       "      <th></th>\n",
       "    </tr>\n",
       "  </thead>\n",
       "  <tbody>\n",
       "    <tr>\n",
       "      <th>1065.0</th>\n",
       "      <td>1405882</td>\n",
       "    </tr>\n",
       "    <tr>\n",
       "      <th>1115.0</th>\n",
       "      <td>1409038</td>\n",
       "    </tr>\n",
       "    <tr>\n",
       "      <th>1174.0</th>\n",
       "      <td>1411580</td>\n",
       "    </tr>\n",
       "    <tr>\n",
       "      <th>1224.0</th>\n",
       "      <td>1408555</td>\n",
       "    </tr>\n",
       "    <tr>\n",
       "      <th>1302.0</th>\n",
       "      <td>1411827</td>\n",
       "    </tr>\n",
       "    <tr>\n",
       "      <th>...</th>\n",
       "      <td>...</td>\n",
       "    </tr>\n",
       "    <tr>\n",
       "      <th>11374.0</th>\n",
       "      <td>1412698</td>\n",
       "    </tr>\n",
       "    <tr>\n",
       "      <th>11624.0</th>\n",
       "      <td>1412928</td>\n",
       "    </tr>\n",
       "    <tr>\n",
       "      <th>12712.0</th>\n",
       "      <td>1410935</td>\n",
       "    </tr>\n",
       "    <tr>\n",
       "      <th>12762.0</th>\n",
       "      <td>1410731</td>\n",
       "    </tr>\n",
       "    <tr>\n",
       "      <th>13012.0</th>\n",
       "      <td>1409032</td>\n",
       "    </tr>\n",
       "  </tbody>\n",
       "</table>\n",
       "<p>180 rows × 1 columns</p>\n",
       "</div>"
      ],
      "text/plain": [
       "           user_id\n",
       "order_sum         \n",
       "1065.0     1405882\n",
       "1115.0     1409038\n",
       "1174.0     1411580\n",
       "1224.0     1408555\n",
       "1302.0     1411827\n",
       "...            ...\n",
       "11374.0    1412698\n",
       "11624.0    1412928\n",
       "12712.0    1410935\n",
       "12762.0    1410731\n",
       "13012.0    1409032\n",
       "\n",
       "[180 rows x 1 columns]"
      ]
     },
     "execution_count": 60,
     "metadata": {},
     "output_type": "execute_result"
    }
   ],
   "source": [
    "purchase_clean = purchases.loc[purchases['order_sum'] < 25000]\n",
    "purchase_clean.groupby('order_sum').max()"
   ]
  },
  {
   "cell_type": "code",
   "execution_count": 61,
   "metadata": {},
   "outputs": [],
   "source": [
    "november_data = pd.merge(november_segments,\n",
    "                         purchase_clean,\n",
    "                         how = 'left',\n",
    "                         on = 'user_id')          "
   ]
  },
  {
   "cell_type": "code",
   "execution_count": 64,
   "metadata": {},
   "outputs": [
    {
     "data": {
      "text/html": [
       "<div>\n",
       "<style scoped>\n",
       "    .dataframe tbody tr th:only-of-type {\n",
       "        vertical-align: middle;\n",
       "    }\n",
       "\n",
       "    .dataframe tbody tr th {\n",
       "        vertical-align: top;\n",
       "    }\n",
       "\n",
       "    .dataframe thead th {\n",
       "        text-align: right;\n",
       "    }\n",
       "</style>\n",
       "<table border=\"1\" class=\"dataframe\">\n",
       "  <thead>\n",
       "    <tr style=\"text-align: right;\">\n",
       "      <th></th>\n",
       "      <th>user_id</th>\n",
       "      <th>reg_time</th>\n",
       "      <th>purch_time</th>\n",
       "      <th>test_group</th>\n",
       "      <th>device</th>\n",
       "      <th>geo</th>\n",
       "      <th>marketing</th>\n",
       "      <th>order_sum</th>\n",
       "    </tr>\n",
       "  </thead>\n",
       "  <tbody>\n",
       "    <tr>\n",
       "      <th>0</th>\n",
       "      <td>1256666</td>\n",
       "      <td>2020-11-19 12:14:20</td>\n",
       "      <td>NaT</td>\n",
       "      <td>big_increase</td>\n",
       "      <td>desktop</td>\n",
       "      <td>regions</td>\n",
       "      <td>social</td>\n",
       "      <td>NaN</td>\n",
       "    </tr>\n",
       "    <tr>\n",
       "      <th>1</th>\n",
       "      <td>1225937</td>\n",
       "      <td>2020-11-23 03:37:05</td>\n",
       "      <td>NaT</td>\n",
       "      <td>small_increase</td>\n",
       "      <td>desktop</td>\n",
       "      <td>world</td>\n",
       "      <td>cpc</td>\n",
       "      <td>NaN</td>\n",
       "    </tr>\n",
       "    <tr>\n",
       "      <th>2</th>\n",
       "      <td>1265347</td>\n",
       "      <td>2020-11-19 16:15:57</td>\n",
       "      <td>NaT</td>\n",
       "      <td>small_increase</td>\n",
       "      <td>desktop</td>\n",
       "      <td>regions</td>\n",
       "      <td>cpc</td>\n",
       "      <td>NaN</td>\n",
       "    </tr>\n",
       "    <tr>\n",
       "      <th>3</th>\n",
       "      <td>1332763</td>\n",
       "      <td>2020-11-06 03:10:02</td>\n",
       "      <td>NaT</td>\n",
       "      <td>small_increase</td>\n",
       "      <td>desktop</td>\n",
       "      <td>regions</td>\n",
       "      <td>organic</td>\n",
       "      <td>NaN</td>\n",
       "    </tr>\n",
       "    <tr>\n",
       "      <th>4</th>\n",
       "      <td>1317792</td>\n",
       "      <td>2020-11-17 00:45:55</td>\n",
       "      <td>NaT</td>\n",
       "      <td>control</td>\n",
       "      <td>mobile</td>\n",
       "      <td>regions</td>\n",
       "      <td>organic</td>\n",
       "      <td>NaN</td>\n",
       "    </tr>\n",
       "    <tr>\n",
       "      <th>...</th>\n",
       "      <td>...</td>\n",
       "      <td>...</td>\n",
       "      <td>...</td>\n",
       "      <td>...</td>\n",
       "      <td>...</td>\n",
       "      <td>...</td>\n",
       "      <td>...</td>\n",
       "      <td>...</td>\n",
       "    </tr>\n",
       "    <tr>\n",
       "      <th>292073</th>\n",
       "      <td>1283426</td>\n",
       "      <td>2020-11-06 17:49:26</td>\n",
       "      <td>NaT</td>\n",
       "      <td>control</td>\n",
       "      <td>desktop</td>\n",
       "      <td>regions</td>\n",
       "      <td>cpc</td>\n",
       "      <td>NaN</td>\n",
       "    </tr>\n",
       "    <tr>\n",
       "      <th>292074</th>\n",
       "      <td>1268139</td>\n",
       "      <td>2020-11-19 15:11:26</td>\n",
       "      <td>NaT</td>\n",
       "      <td>small_increase</td>\n",
       "      <td>desktop</td>\n",
       "      <td>world</td>\n",
       "      <td>organic</td>\n",
       "      <td>NaN</td>\n",
       "    </tr>\n",
       "    <tr>\n",
       "      <th>292075</th>\n",
       "      <td>1336773</td>\n",
       "      <td>2020-11-17 13:01:38</td>\n",
       "      <td>NaT</td>\n",
       "      <td>small_increase</td>\n",
       "      <td>desktop</td>\n",
       "      <td>spb</td>\n",
       "      <td>referral</td>\n",
       "      <td>NaN</td>\n",
       "    </tr>\n",
       "    <tr>\n",
       "      <th>292076</th>\n",
       "      <td>1400394</td>\n",
       "      <td>2020-11-17 18:05:28</td>\n",
       "      <td>NaT</td>\n",
       "      <td>control</td>\n",
       "      <td>desktop</td>\n",
       "      <td>msk</td>\n",
       "      <td>organic</td>\n",
       "      <td>NaN</td>\n",
       "    </tr>\n",
       "    <tr>\n",
       "      <th>292077</th>\n",
       "      <td>1210538</td>\n",
       "      <td>2020-11-09 20:40:37</td>\n",
       "      <td>2020-11-10 01:37:12</td>\n",
       "      <td>small_increase</td>\n",
       "      <td>mobile</td>\n",
       "      <td>msk</td>\n",
       "      <td>organic</td>\n",
       "      <td>7392.0</td>\n",
       "    </tr>\n",
       "  </tbody>\n",
       "</table>\n",
       "<p>291187 rows × 8 columns</p>\n",
       "</div>"
      ],
      "text/plain": [
       "        user_id            reg_time          purch_time      test_group  \\\n",
       "0       1256666 2020-11-19 12:14:20                 NaT    big_increase   \n",
       "1       1225937 2020-11-23 03:37:05                 NaT  small_increase   \n",
       "2       1265347 2020-11-19 16:15:57                 NaT  small_increase   \n",
       "3       1332763 2020-11-06 03:10:02                 NaT  small_increase   \n",
       "4       1317792 2020-11-17 00:45:55                 NaT         control   \n",
       "...         ...                 ...                 ...             ...   \n",
       "292073  1283426 2020-11-06 17:49:26                 NaT         control   \n",
       "292074  1268139 2020-11-19 15:11:26                 NaT  small_increase   \n",
       "292075  1336773 2020-11-17 13:01:38                 NaT  small_increase   \n",
       "292076  1400394 2020-11-17 18:05:28                 NaT         control   \n",
       "292077  1210538 2020-11-09 20:40:37 2020-11-10 01:37:12  small_increase   \n",
       "\n",
       "         device      geo marketing  order_sum  \n",
       "0       desktop  regions    social        NaN  \n",
       "1       desktop    world       cpc        NaN  \n",
       "2       desktop  regions       cpc        NaN  \n",
       "3       desktop  regions   organic        NaN  \n",
       "4        mobile  regions   organic        NaN  \n",
       "...         ...      ...       ...        ...  \n",
       "292073  desktop  regions       cpc        NaN  \n",
       "292074  desktop    world   organic        NaN  \n",
       "292075  desktop      spb  referral        NaN  \n",
       "292076  desktop      msk   organic        NaN  \n",
       "292077   mobile      msk   organic     7392.0  \n",
       "\n",
       "[291187 rows x 8 columns]"
      ]
     },
     "execution_count": 64,
     "metadata": {},
     "output_type": "execute_result"
    }
   ],
   "source": [
    "november_data = november_data.drop_duplicates('user_id') # !исправил удалил дубликаты\n",
    "november_data"
   ]
  },
  {
   "cell_type": "code",
   "execution_count": 65,
   "metadata": {},
   "outputs": [
    {
     "data": {
      "text/html": [
       "<div>\n",
       "<style scoped>\n",
       "    .dataframe tbody tr th:only-of-type {\n",
       "        vertical-align: middle;\n",
       "    }\n",
       "\n",
       "    .dataframe tbody tr th {\n",
       "        vertical-align: top;\n",
       "    }\n",
       "\n",
       "    .dataframe thead th {\n",
       "        text-align: right;\n",
       "    }\n",
       "</style>\n",
       "<table border=\"1\" class=\"dataframe\">\n",
       "  <thead>\n",
       "    <tr style=\"text-align: right;\">\n",
       "      <th></th>\n",
       "      <th>user_id</th>\n",
       "      <th>reg_time</th>\n",
       "      <th>purch_time</th>\n",
       "      <th>test_group</th>\n",
       "      <th>device</th>\n",
       "      <th>geo</th>\n",
       "      <th>marketing</th>\n",
       "      <th>order_sum</th>\n",
       "    </tr>\n",
       "  </thead>\n",
       "  <tbody>\n",
       "    <tr>\n",
       "      <th>35636</th>\n",
       "      <td>1412358</td>\n",
       "      <td>2020-11-04 12:18:00</td>\n",
       "      <td>2020-11-12 05:08:10</td>\n",
       "      <td>small_increase</td>\n",
       "      <td>mobile</td>\n",
       "      <td>regions</td>\n",
       "      <td>referral</td>\n",
       "      <td>1420.0</td>\n",
       "    </tr>\n",
       "  </tbody>\n",
       "</table>\n",
       "</div>"
      ],
      "text/plain": [
       "       user_id            reg_time          purch_time      test_group  \\\n",
       "35636  1412358 2020-11-04 12:18:00 2020-11-12 05:08:10  small_increase   \n",
       "\n",
       "       device      geo marketing  order_sum  \n",
       "35636  mobile  regions  referral     1420.0  "
      ]
     },
     "execution_count": 65,
     "metadata": {},
     "output_type": "execute_result"
    }
   ],
   "source": [
    "#november_data[november_data.user_id == 1412358]"
   ]
  },
  {
   "cell_type": "code",
   "execution_count": 66,
   "metadata": {},
   "outputs": [
    {
     "data": {
      "text/html": [
       "<div>\n",
       "<style scoped>\n",
       "    .dataframe tbody tr th:only-of-type {\n",
       "        vertical-align: middle;\n",
       "    }\n",
       "\n",
       "    .dataframe tbody tr th {\n",
       "        vertical-align: top;\n",
       "    }\n",
       "\n",
       "    .dataframe thead th {\n",
       "        text-align: right;\n",
       "    }\n",
       "</style>\n",
       "<table border=\"1\" class=\"dataframe\">\n",
       "  <thead>\n",
       "    <tr style=\"text-align: right;\">\n",
       "      <th></th>\n",
       "      <th>user_id</th>\n",
       "      <th>reg_time</th>\n",
       "      <th>purch_time</th>\n",
       "      <th>test_group</th>\n",
       "      <th>device</th>\n",
       "      <th>geo</th>\n",
       "      <th>marketing</th>\n",
       "      <th>order_sum</th>\n",
       "      <th>time_delta</th>\n",
       "    </tr>\n",
       "  </thead>\n",
       "  <tbody>\n",
       "    <tr>\n",
       "      <th>0</th>\n",
       "      <td>1256666</td>\n",
       "      <td>2020-11-19 12:14:20</td>\n",
       "      <td>NaT</td>\n",
       "      <td>big_increase</td>\n",
       "      <td>desktop</td>\n",
       "      <td>regions</td>\n",
       "      <td>social</td>\n",
       "      <td>NaN</td>\n",
       "      <td>0.000000</td>\n",
       "    </tr>\n",
       "    <tr>\n",
       "      <th>1</th>\n",
       "      <td>1225937</td>\n",
       "      <td>2020-11-23 03:37:05</td>\n",
       "      <td>NaT</td>\n",
       "      <td>small_increase</td>\n",
       "      <td>desktop</td>\n",
       "      <td>world</td>\n",
       "      <td>cpc</td>\n",
       "      <td>NaN</td>\n",
       "      <td>0.000000</td>\n",
       "    </tr>\n",
       "    <tr>\n",
       "      <th>2</th>\n",
       "      <td>1265347</td>\n",
       "      <td>2020-11-19 16:15:57</td>\n",
       "      <td>NaT</td>\n",
       "      <td>small_increase</td>\n",
       "      <td>desktop</td>\n",
       "      <td>regions</td>\n",
       "      <td>cpc</td>\n",
       "      <td>NaN</td>\n",
       "      <td>0.000000</td>\n",
       "    </tr>\n",
       "    <tr>\n",
       "      <th>3</th>\n",
       "      <td>1332763</td>\n",
       "      <td>2020-11-06 03:10:02</td>\n",
       "      <td>NaT</td>\n",
       "      <td>small_increase</td>\n",
       "      <td>desktop</td>\n",
       "      <td>regions</td>\n",
       "      <td>organic</td>\n",
       "      <td>NaN</td>\n",
       "      <td>0.000000</td>\n",
       "    </tr>\n",
       "    <tr>\n",
       "      <th>4</th>\n",
       "      <td>1317792</td>\n",
       "      <td>2020-11-17 00:45:55</td>\n",
       "      <td>NaT</td>\n",
       "      <td>control</td>\n",
       "      <td>mobile</td>\n",
       "      <td>regions</td>\n",
       "      <td>organic</td>\n",
       "      <td>NaN</td>\n",
       "      <td>0.000000</td>\n",
       "    </tr>\n",
       "    <tr>\n",
       "      <th>...</th>\n",
       "      <td>...</td>\n",
       "      <td>...</td>\n",
       "      <td>...</td>\n",
       "      <td>...</td>\n",
       "      <td>...</td>\n",
       "      <td>...</td>\n",
       "      <td>...</td>\n",
       "      <td>...</td>\n",
       "      <td>...</td>\n",
       "    </tr>\n",
       "    <tr>\n",
       "      <th>292073</th>\n",
       "      <td>1283426</td>\n",
       "      <td>2020-11-06 17:49:26</td>\n",
       "      <td>NaT</td>\n",
       "      <td>control</td>\n",
       "      <td>desktop</td>\n",
       "      <td>regions</td>\n",
       "      <td>cpc</td>\n",
       "      <td>NaN</td>\n",
       "      <td>0.000000</td>\n",
       "    </tr>\n",
       "    <tr>\n",
       "      <th>292074</th>\n",
       "      <td>1268139</td>\n",
       "      <td>2020-11-19 15:11:26</td>\n",
       "      <td>NaT</td>\n",
       "      <td>small_increase</td>\n",
       "      <td>desktop</td>\n",
       "      <td>world</td>\n",
       "      <td>organic</td>\n",
       "      <td>NaN</td>\n",
       "      <td>0.000000</td>\n",
       "    </tr>\n",
       "    <tr>\n",
       "      <th>292075</th>\n",
       "      <td>1336773</td>\n",
       "      <td>2020-11-17 13:01:38</td>\n",
       "      <td>NaT</td>\n",
       "      <td>small_increase</td>\n",
       "      <td>desktop</td>\n",
       "      <td>spb</td>\n",
       "      <td>referral</td>\n",
       "      <td>NaN</td>\n",
       "      <td>0.000000</td>\n",
       "    </tr>\n",
       "    <tr>\n",
       "      <th>292076</th>\n",
       "      <td>1400394</td>\n",
       "      <td>2020-11-17 18:05:28</td>\n",
       "      <td>NaT</td>\n",
       "      <td>control</td>\n",
       "      <td>desktop</td>\n",
       "      <td>msk</td>\n",
       "      <td>organic</td>\n",
       "      <td>NaN</td>\n",
       "      <td>0.000000</td>\n",
       "    </tr>\n",
       "    <tr>\n",
       "      <th>292077</th>\n",
       "      <td>1210538</td>\n",
       "      <td>2020-11-09 20:40:37</td>\n",
       "      <td>2020-11-10 01:37:12</td>\n",
       "      <td>small_increase</td>\n",
       "      <td>mobile</td>\n",
       "      <td>msk</td>\n",
       "      <td>organic</td>\n",
       "      <td>7392.0</td>\n",
       "      <td>0.205961</td>\n",
       "    </tr>\n",
       "  </tbody>\n",
       "</table>\n",
       "<p>291187 rows × 9 columns</p>\n",
       "</div>"
      ],
      "text/plain": [
       "        user_id            reg_time          purch_time      test_group  \\\n",
       "0       1256666 2020-11-19 12:14:20                 NaT    big_increase   \n",
       "1       1225937 2020-11-23 03:37:05                 NaT  small_increase   \n",
       "2       1265347 2020-11-19 16:15:57                 NaT  small_increase   \n",
       "3       1332763 2020-11-06 03:10:02                 NaT  small_increase   \n",
       "4       1317792 2020-11-17 00:45:55                 NaT         control   \n",
       "...         ...                 ...                 ...             ...   \n",
       "292073  1283426 2020-11-06 17:49:26                 NaT         control   \n",
       "292074  1268139 2020-11-19 15:11:26                 NaT  small_increase   \n",
       "292075  1336773 2020-11-17 13:01:38                 NaT  small_increase   \n",
       "292076  1400394 2020-11-17 18:05:28                 NaT         control   \n",
       "292077  1210538 2020-11-09 20:40:37 2020-11-10 01:37:12  small_increase   \n",
       "\n",
       "         device      geo marketing  order_sum  time_delta  \n",
       "0       desktop  regions    social        NaN    0.000000  \n",
       "1       desktop    world       cpc        NaN    0.000000  \n",
       "2       desktop  regions       cpc        NaN    0.000000  \n",
       "3       desktop  regions   organic        NaN    0.000000  \n",
       "4        mobile  regions   organic        NaN    0.000000  \n",
       "...         ...      ...       ...        ...         ...  \n",
       "292073  desktop  regions       cpc        NaN    0.000000  \n",
       "292074  desktop    world   organic        NaN    0.000000  \n",
       "292075  desktop      spb  referral        NaN    0.000000  \n",
       "292076  desktop      msk   organic        NaN    0.000000  \n",
       "292077   mobile      msk   organic     7392.0    0.205961  \n",
       "\n",
       "[291187 rows x 9 columns]"
      ]
     },
     "execution_count": 66,
     "metadata": {},
     "output_type": "execute_result"
    }
   ],
   "source": [
    "# Вычислил время на совершение покупки и преобразовал во float\n",
    "november_data['time_delta'] = ((november_data['purch_time'] - november_data['reg_time']) / np.timedelta64(1, 'D')).fillna(0)\n",
    "november_data"
   ]
  },
  {
   "cell_type": "code",
   "execution_count": 67,
   "metadata": {},
   "outputs": [
    {
     "data": {
      "text/html": [
       "<div>\n",
       "<style scoped>\n",
       "    .dataframe tbody tr th:only-of-type {\n",
       "        vertical-align: middle;\n",
       "    }\n",
       "\n",
       "    .dataframe tbody tr th {\n",
       "        vertical-align: top;\n",
       "    }\n",
       "\n",
       "    .dataframe thead th {\n",
       "        text-align: right;\n",
       "    }\n",
       "</style>\n",
       "<table border=\"1\" class=\"dataframe\">\n",
       "  <thead>\n",
       "    <tr style=\"text-align: right;\">\n",
       "      <th></th>\n",
       "      <th>user_id</th>\n",
       "      <th>reg_time</th>\n",
       "      <th>purch_time</th>\n",
       "      <th>test_group</th>\n",
       "      <th>device</th>\n",
       "      <th>geo</th>\n",
       "      <th>marketing</th>\n",
       "      <th>order_sum</th>\n",
       "      <th>time_delta</th>\n",
       "      <th>within_window</th>\n",
       "    </tr>\n",
       "  </thead>\n",
       "  <tbody>\n",
       "    <tr>\n",
       "      <th>0</th>\n",
       "      <td>1256666</td>\n",
       "      <td>2020-11-19 12:14:20</td>\n",
       "      <td>NaT</td>\n",
       "      <td>big_increase</td>\n",
       "      <td>desktop</td>\n",
       "      <td>regions</td>\n",
       "      <td>social</td>\n",
       "      <td>NaN</td>\n",
       "      <td>0.000000</td>\n",
       "      <td>0</td>\n",
       "    </tr>\n",
       "    <tr>\n",
       "      <th>1</th>\n",
       "      <td>1225937</td>\n",
       "      <td>2020-11-23 03:37:05</td>\n",
       "      <td>NaT</td>\n",
       "      <td>small_increase</td>\n",
       "      <td>desktop</td>\n",
       "      <td>world</td>\n",
       "      <td>cpc</td>\n",
       "      <td>NaN</td>\n",
       "      <td>0.000000</td>\n",
       "      <td>0</td>\n",
       "    </tr>\n",
       "    <tr>\n",
       "      <th>2</th>\n",
       "      <td>1265347</td>\n",
       "      <td>2020-11-19 16:15:57</td>\n",
       "      <td>NaT</td>\n",
       "      <td>small_increase</td>\n",
       "      <td>desktop</td>\n",
       "      <td>regions</td>\n",
       "      <td>cpc</td>\n",
       "      <td>NaN</td>\n",
       "      <td>0.000000</td>\n",
       "      <td>0</td>\n",
       "    </tr>\n",
       "    <tr>\n",
       "      <th>3</th>\n",
       "      <td>1332763</td>\n",
       "      <td>2020-11-06 03:10:02</td>\n",
       "      <td>NaT</td>\n",
       "      <td>small_increase</td>\n",
       "      <td>desktop</td>\n",
       "      <td>regions</td>\n",
       "      <td>organic</td>\n",
       "      <td>NaN</td>\n",
       "      <td>0.000000</td>\n",
       "      <td>0</td>\n",
       "    </tr>\n",
       "    <tr>\n",
       "      <th>4</th>\n",
       "      <td>1317792</td>\n",
       "      <td>2020-11-17 00:45:55</td>\n",
       "      <td>NaT</td>\n",
       "      <td>control</td>\n",
       "      <td>mobile</td>\n",
       "      <td>regions</td>\n",
       "      <td>organic</td>\n",
       "      <td>NaN</td>\n",
       "      <td>0.000000</td>\n",
       "      <td>0</td>\n",
       "    </tr>\n",
       "    <tr>\n",
       "      <th>...</th>\n",
       "      <td>...</td>\n",
       "      <td>...</td>\n",
       "      <td>...</td>\n",
       "      <td>...</td>\n",
       "      <td>...</td>\n",
       "      <td>...</td>\n",
       "      <td>...</td>\n",
       "      <td>...</td>\n",
       "      <td>...</td>\n",
       "      <td>...</td>\n",
       "    </tr>\n",
       "    <tr>\n",
       "      <th>292073</th>\n",
       "      <td>1283426</td>\n",
       "      <td>2020-11-06 17:49:26</td>\n",
       "      <td>NaT</td>\n",
       "      <td>control</td>\n",
       "      <td>desktop</td>\n",
       "      <td>regions</td>\n",
       "      <td>cpc</td>\n",
       "      <td>NaN</td>\n",
       "      <td>0.000000</td>\n",
       "      <td>0</td>\n",
       "    </tr>\n",
       "    <tr>\n",
       "      <th>292074</th>\n",
       "      <td>1268139</td>\n",
       "      <td>2020-11-19 15:11:26</td>\n",
       "      <td>NaT</td>\n",
       "      <td>small_increase</td>\n",
       "      <td>desktop</td>\n",
       "      <td>world</td>\n",
       "      <td>organic</td>\n",
       "      <td>NaN</td>\n",
       "      <td>0.000000</td>\n",
       "      <td>0</td>\n",
       "    </tr>\n",
       "    <tr>\n",
       "      <th>292075</th>\n",
       "      <td>1336773</td>\n",
       "      <td>2020-11-17 13:01:38</td>\n",
       "      <td>NaT</td>\n",
       "      <td>small_increase</td>\n",
       "      <td>desktop</td>\n",
       "      <td>spb</td>\n",
       "      <td>referral</td>\n",
       "      <td>NaN</td>\n",
       "      <td>0.000000</td>\n",
       "      <td>0</td>\n",
       "    </tr>\n",
       "    <tr>\n",
       "      <th>292076</th>\n",
       "      <td>1400394</td>\n",
       "      <td>2020-11-17 18:05:28</td>\n",
       "      <td>NaT</td>\n",
       "      <td>control</td>\n",
       "      <td>desktop</td>\n",
       "      <td>msk</td>\n",
       "      <td>organic</td>\n",
       "      <td>NaN</td>\n",
       "      <td>0.000000</td>\n",
       "      <td>0</td>\n",
       "    </tr>\n",
       "    <tr>\n",
       "      <th>292077</th>\n",
       "      <td>1210538</td>\n",
       "      <td>2020-11-09 20:40:37</td>\n",
       "      <td>2020-11-10 01:37:12</td>\n",
       "      <td>small_increase</td>\n",
       "      <td>mobile</td>\n",
       "      <td>msk</td>\n",
       "      <td>organic</td>\n",
       "      <td>7392.0</td>\n",
       "      <td>0.205961</td>\n",
       "      <td>1</td>\n",
       "    </tr>\n",
       "  </tbody>\n",
       "</table>\n",
       "<p>291187 rows × 10 columns</p>\n",
       "</div>"
      ],
      "text/plain": [
       "        user_id            reg_time          purch_time      test_group  \\\n",
       "0       1256666 2020-11-19 12:14:20                 NaT    big_increase   \n",
       "1       1225937 2020-11-23 03:37:05                 NaT  small_increase   \n",
       "2       1265347 2020-11-19 16:15:57                 NaT  small_increase   \n",
       "3       1332763 2020-11-06 03:10:02                 NaT  small_increase   \n",
       "4       1317792 2020-11-17 00:45:55                 NaT         control   \n",
       "...         ...                 ...                 ...             ...   \n",
       "292073  1283426 2020-11-06 17:49:26                 NaT         control   \n",
       "292074  1268139 2020-11-19 15:11:26                 NaT  small_increase   \n",
       "292075  1336773 2020-11-17 13:01:38                 NaT  small_increase   \n",
       "292076  1400394 2020-11-17 18:05:28                 NaT         control   \n",
       "292077  1210538 2020-11-09 20:40:37 2020-11-10 01:37:12  small_increase   \n",
       "\n",
       "         device      geo marketing  order_sum  time_delta  within_window  \n",
       "0       desktop  regions    social        NaN    0.000000              0  \n",
       "1       desktop    world       cpc        NaN    0.000000              0  \n",
       "2       desktop  regions       cpc        NaN    0.000000              0  \n",
       "3       desktop  regions   organic        NaN    0.000000              0  \n",
       "4        mobile  regions   organic        NaN    0.000000              0  \n",
       "...         ...      ...       ...        ...         ...            ...  \n",
       "292073  desktop  regions       cpc        NaN    0.000000              0  \n",
       "292074  desktop    world   organic        NaN    0.000000              0  \n",
       "292075  desktop      spb  referral        NaN    0.000000              0  \n",
       "292076  desktop      msk   organic        NaN    0.000000              0  \n",
       "292077   mobile      msk   organic     7392.0    0.205961              1  \n",
       "\n",
       "[291187 rows x 10 columns]"
      ]
     },
     "execution_count": 67,
     "metadata": {},
     "output_type": "execute_result"
    }
   ],
   "source": [
    "def map_time(x):\n",
    "    if 0.0 < x <= 6.0:\n",
    "        return 1\n",
    "    else:\n",
    "        return 0\n",
    "november_data['within_window'] = november_data['time_delta'].apply(map_time)\n",
    "november_data\n",
    "# В столбце within_window я отмечаю 1 пользователей находящихся в окне конверсии"
   ]
  },
  {
   "cell_type": "code",
   "execution_count": 105,
   "metadata": {},
   "outputs": [
    {
     "data": {
      "text/plain": [
       "0    259747\n",
       "1     31440\n",
       "Name: within_window, dtype: int64"
      ]
     },
     "execution_count": 105,
     "metadata": {},
     "output_type": "execute_result"
    }
   ],
   "source": [
    "november_data['within_window'].value_counts()"
   ]
  },
  {
   "cell_type": "code",
   "execution_count": null,
   "metadata": {},
   "outputs": [],
   "source": [
    "#Вычисляю конверсию и подгружаю statsmodel"
   ]
  },
  {
   "cell_type": "code",
   "execution_count": 69,
   "metadata": {},
   "outputs": [
    {
     "data": {
      "text/html": [
       "<div>\n",
       "<style scoped>\n",
       "    .dataframe tbody tr th:only-of-type {\n",
       "        vertical-align: middle;\n",
       "    }\n",
       "\n",
       "    .dataframe tbody tr th {\n",
       "        vertical-align: top;\n",
       "    }\n",
       "\n",
       "    .dataframe thead th {\n",
       "        text-align: right;\n",
       "    }\n",
       "</style>\n",
       "<table border=\"1\" class=\"dataframe\">\n",
       "  <thead>\n",
       "    <tr style=\"text-align: right;\">\n",
       "      <th></th>\n",
       "      <th>test_group</th>\n",
       "      <th>user_id</th>\n",
       "      <th>within_window</th>\n",
       "      <th>order_sum</th>\n",
       "      <th>conversion</th>\n",
       "    </tr>\n",
       "  </thead>\n",
       "  <tbody>\n",
       "    <tr>\n",
       "      <th>0</th>\n",
       "      <td>big_increase</td>\n",
       "      <td>96417</td>\n",
       "      <td>10299</td>\n",
       "      <td>4211.911537</td>\n",
       "      <td>10.68</td>\n",
       "    </tr>\n",
       "    <tr>\n",
       "      <th>1</th>\n",
       "      <td>control</td>\n",
       "      <td>97447</td>\n",
       "      <td>10698</td>\n",
       "      <td>3972.985610</td>\n",
       "      <td>10.98</td>\n",
       "    </tr>\n",
       "    <tr>\n",
       "      <th>2</th>\n",
       "      <td>small_increase</td>\n",
       "      <td>97323</td>\n",
       "      <td>10443</td>\n",
       "      <td>3992.492597</td>\n",
       "      <td>10.73</td>\n",
       "    </tr>\n",
       "  </tbody>\n",
       "</table>\n",
       "</div>"
      ],
      "text/plain": [
       "       test_group  user_id  within_window    order_sum  conversion\n",
       "0    big_increase    96417          10299  4211.911537       10.68\n",
       "1         control    97447          10698  3972.985610       10.98\n",
       "2  small_increase    97323          10443  3992.492597       10.73"
      ]
     },
     "execution_count": 69,
     "metadata": {},
     "output_type": "execute_result"
    }
   ],
   "source": [
    "metrics = november_data.groupby('test_group').\\\n",
    "agg({'user_id':'count','within_window':'sum', 'order_sum':'mean'})\n",
    "metrics['conversion'] = round(metrics['within_window']/metrics['user_id']*100, 2)\n",
    "metrics.reset_index()"
   ]
  },
  {
   "cell_type": "code",
   "execution_count": 70,
   "metadata": {},
   "outputs": [],
   "source": [
    "big_small_metrics = metrics.loc[['big_increase', 'small_increase']]"
   ]
  },
  {
   "cell_type": "code",
   "execution_count": 71,
   "metadata": {},
   "outputs": [],
   "source": [
    "big_control_metrics = metrics.loc[['big_increase', 'control']]"
   ]
  },
  {
   "cell_type": "code",
   "execution_count": 72,
   "metadata": {},
   "outputs": [],
   "source": [
    "small_control_metrics = metrics.loc[['small_increase', 'control']]"
   ]
  },
  {
   "cell_type": "code",
   "execution_count": 73,
   "metadata": {},
   "outputs": [],
   "source": [
    "alpha = 0.05"
   ]
  },
  {
   "cell_type": "markdown",
   "metadata": {},
   "source": [
    "Вычисляем p-value. Данный показатель поможет определить процент вероятности совершения ошибки первого рода."
   ]
  },
  {
   "cell_type": "code",
   "execution_count": 74,
   "metadata": {},
   "outputs": [],
   "source": [
    "import statsmodels.stats.proportion as proportion"
   ]
  },
  {
   "cell_type": "code",
   "execution_count": 75,
   "metadata": {},
   "outputs": [
    {
     "name": "stdout",
     "output_type": "stream",
     "text": [
      "0.729812061498429 False\n"
     ]
    }
   ],
   "source": [
    "chi2stat_bsm, pval_bsm, table_bsm = proportion.proportions_chisquare(big_small_metrics['within_window'],\n",
    "                                                          big_small_metrics['user_id'])\n",
    "print(pval_bsm, pval_bsm < alpha)"
   ]
  },
  {
   "cell_type": "code",
   "execution_count": 76,
   "metadata": {},
   "outputs": [
    {
     "name": "stdout",
     "output_type": "stream",
     "text": [
      "0.035664097786955055 True\n"
     ]
    }
   ],
   "source": [
    "chi2stat_bcm, pval_bcm, table_bcm = proportion.proportions_chisquare(big_control_metrics['within_window'],\n",
    "                                                          big_control_metrics['user_id'])\n",
    "print(pval_bcm, pval_bcm < alpha)"
   ]
  },
  {
   "cell_type": "code",
   "execution_count": 77,
   "metadata": {},
   "outputs": [
    {
     "name": "stdout",
     "output_type": "stream",
     "text": [
      "0.07850078457991579 False\n"
     ]
    }
   ],
   "source": [
    "chi2stat_scm, pval_scm, table_scm = proportion.proportions_chisquare(small_control_metrics['within_window'],\n",
    "                                                          small_control_metrics['user_id'])\n",
    "print(pval_scm, pval_scm < alpha)"
   ]
  },
  {
   "cell_type": "code",
   "execution_count": null,
   "metadata": {},
   "outputs": [],
   "source": []
  },
  {
   "cell_type": "markdown",
   "metadata": {},
   "source": [
    "p-value больше стандартной вероятности ошибки первого рода, для групп сравнения big_increase vs small_increase и small_increase vs control, поэтому мы вынуждены признать что разница в  тестовых группах скорее всего случайна. \n",
    "Группа big_increase vs control имеет значение p-value достаточным для того чтобы считать что разница в группе статистически значима.\n",
    "Применим поправку Бонферрони."
   ]
  },
  {
   "cell_type": "code",
   "execution_count": 78,
   "metadata": {},
   "outputs": [],
   "source": [
    "from statsmodels.sandbox.stats.multicomp import multipletests"
   ]
  },
  {
   "cell_type": "code",
   "execution_count": 79,
   "metadata": {},
   "outputs": [
    {
     "data": {
      "text/html": [
       "<div>\n",
       "<style scoped>\n",
       "    .dataframe tbody tr th:only-of-type {\n",
       "        vertical-align: middle;\n",
       "    }\n",
       "\n",
       "    .dataframe tbody tr th {\n",
       "        vertical-align: top;\n",
       "    }\n",
       "\n",
       "    .dataframe thead th {\n",
       "        text-align: right;\n",
       "    }\n",
       "</style>\n",
       "<table border=\"1\" class=\"dataframe\">\n",
       "  <thead>\n",
       "    <tr style=\"text-align: right;\">\n",
       "      <th></th>\n",
       "      <th>comparison</th>\n",
       "      <th>p-value before</th>\n",
       "      <th>stat sign before</th>\n",
       "    </tr>\n",
       "  </thead>\n",
       "  <tbody>\n",
       "    <tr>\n",
       "      <th>0</th>\n",
       "      <td>big_increase vs small_increase</td>\n",
       "      <td>0.729812</td>\n",
       "      <td>False</td>\n",
       "    </tr>\n",
       "    <tr>\n",
       "      <th>1</th>\n",
       "      <td>big_increase vs control</td>\n",
       "      <td>0.035664</td>\n",
       "      <td>True</td>\n",
       "    </tr>\n",
       "    <tr>\n",
       "      <th>2</th>\n",
       "      <td>small_increase vs control</td>\n",
       "      <td>0.078501</td>\n",
       "      <td>False</td>\n",
       "    </tr>\n",
       "  </tbody>\n",
       "</table>\n",
       "</div>"
      ],
      "text/plain": [
       "                       comparison  p-value before  stat sign before\n",
       "0  big_increase vs small_increase        0.729812             False\n",
       "1         big_increase vs control        0.035664              True\n",
       "2       small_increase vs control        0.078501             False"
      ]
     },
     "execution_count": 79,
     "metadata": {},
     "output_type": "execute_result"
    }
   ],
   "source": [
    "results = pd.DataFrame({'comparison': ['big_increase vs small_increase', 'big_increase vs control', 'small_increase vs control'],\n",
    "                        'p-value before': [pval_bsm, pval_bcm, pval_scm],\n",
    "                        'stat sign before': [False, True, False]})\n",
    "results"
   ]
  },
  {
   "cell_type": "code",
   "execution_count": 80,
   "metadata": {},
   "outputs": [
    {
     "data": {
      "text/plain": [
       "0    0.729812\n",
       "1    0.035664\n",
       "2    0.078501\n",
       "Name: p-value before, dtype: float64"
      ]
     },
     "execution_count": 80,
     "metadata": {},
     "output_type": "execute_result"
    }
   ],
   "source": [
    "pvals = results['p-value before']\n",
    "pvals"
   ]
  },
  {
   "cell_type": "code",
   "execution_count": 81,
   "metadata": {},
   "outputs": [
    {
     "data": {
      "text/html": [
       "<div>\n",
       "<style scoped>\n",
       "    .dataframe tbody tr th:only-of-type {\n",
       "        vertical-align: middle;\n",
       "    }\n",
       "\n",
       "    .dataframe tbody tr th {\n",
       "        vertical-align: top;\n",
       "    }\n",
       "\n",
       "    .dataframe thead th {\n",
       "        text-align: right;\n",
       "    }\n",
       "</style>\n",
       "<table border=\"1\" class=\"dataframe\">\n",
       "  <thead>\n",
       "    <tr style=\"text-align: right;\">\n",
       "      <th></th>\n",
       "      <th>comparison</th>\n",
       "      <th>p-value before</th>\n",
       "      <th>stat sign before</th>\n",
       "      <th>p-value after correction</th>\n",
       "    </tr>\n",
       "  </thead>\n",
       "  <tbody>\n",
       "    <tr>\n",
       "      <th>0</th>\n",
       "      <td>big_increase vs small_increase</td>\n",
       "      <td>0.729812</td>\n",
       "      <td>False</td>\n",
       "      <td>1.000000</td>\n",
       "    </tr>\n",
       "    <tr>\n",
       "      <th>1</th>\n",
       "      <td>big_increase vs control</td>\n",
       "      <td>0.035664</td>\n",
       "      <td>True</td>\n",
       "      <td>0.106992</td>\n",
       "    </tr>\n",
       "    <tr>\n",
       "      <th>2</th>\n",
       "      <td>small_increase vs control</td>\n",
       "      <td>0.078501</td>\n",
       "      <td>False</td>\n",
       "      <td>0.235502</td>\n",
       "    </tr>\n",
       "  </tbody>\n",
       "</table>\n",
       "</div>"
      ],
      "text/plain": [
       "                       comparison  p-value before  stat sign before  \\\n",
       "0  big_increase vs small_increase        0.729812             False   \n",
       "1         big_increase vs control        0.035664              True   \n",
       "2       small_increase vs control        0.078501             False   \n",
       "\n",
       "   p-value after correction  \n",
       "0                  1.000000  \n",
       "1                  0.106992  \n",
       "2                  0.235502  "
      ]
     },
     "execution_count": 81,
     "metadata": {},
     "output_type": "execute_result"
    }
   ],
   "source": [
    "results['p-value after correction'] = multipletests(results['p-value before'], method='bonferroni')[1]\n",
    "results"
   ]
  },
  {
   "cell_type": "markdown",
   "metadata": {},
   "source": [
    "После множественного теста с поправкой Бонферрони, мы видим что статистически значимой разницы для всех трех сравнений нет.\n",
    "\n",
    "\n",
    "Далее будут применяться обозначения сравнения тестовых групп - их расшифровка:\n",
    "\n",
    "- bcm - big_increase vs control \n",
    "- bsm - big_increase vs small_increase\n",
    "- scm - small_increase vs control\n",
    "\n",
    "Буква m означает - metrics\n",
    "\n",
    "Вычислим мощность тестов. "
   ]
  },
  {
   "cell_type": "code",
   "execution_count": 82,
   "metadata": {},
   "outputs": [],
   "source": [
    "import statsmodels.stats.power as smp"
   ]
  },
  {
   "cell_type": "code",
   "execution_count": 83,
   "metadata": {},
   "outputs": [],
   "source": [
    "chipower = smp.GofChisquarePower()"
   ]
  },
  {
   "cell_type": "markdown",
   "metadata": {},
   "source": [
    "Создадим функцию effect_size по формуле для определения мощности теста."
   ]
  },
  {
   "cell_type": "code",
   "execution_count": 84,
   "metadata": {},
   "outputs": [],
   "source": [
    "def chi2_effect_size(p0, p1):\n",
    "    return np.sqrt(((p0 - p1)**2 / p0))"
   ]
  },
  {
   "cell_type": "code",
   "execution_count": 85,
   "metadata": {},
   "outputs": [],
   "source": [
    "bsm_conversion_big = big_small_metrics['conversion'].values[0] / 100\n",
    "bsm_conversion_small = big_small_metrics['conversion'].values[1] / 100\n",
    "bsm_nobs = min(big_small_metrics['user_id'])"
   ]
  },
  {
   "cell_type": "code",
   "execution_count": 86,
   "metadata": {},
   "outputs": [],
   "source": [
    "bcm_conversion_big = big_control_metrics['conversion'].values[0] / 100\n",
    "bcm_conversion_control = big_control_metrics['conversion'].values[1] / 100\n",
    "bcm_nobs = min(big_control_metrics['user_id'])"
   ]
  },
  {
   "cell_type": "code",
   "execution_count": 87,
   "metadata": {},
   "outputs": [],
   "source": [
    "scm_conversion_small = small_control_metrics['conversion'].values[0] / 100\n",
    "scm_conversion_control = small_control_metrics['conversion'].values[1] / 100\n",
    "scm_nobs = min(small_control_metrics['user_id'])"
   ]
  },
  {
   "cell_type": "code",
   "execution_count": 88,
   "metadata": {},
   "outputs": [
    {
     "data": {
      "text/plain": [
       "0.7575774303293445"
      ]
     },
     "execution_count": 88,
     "metadata": {},
     "output_type": "execute_result"
    }
   ],
   "source": [
    "bsm_power = chipower.solve_power(effect_size = chi2_effect_size(bsm_conversion_big, bsm_conversion_small),\n",
    "                                nobs = bsm_nobs,\n",
    "                                alpha = pval_bsm,\n",
    "                                power = None)\n",
    "bsm_power"
   ]
  },
  {
   "cell_type": "code",
   "execution_count": 89,
   "metadata": {},
   "outputs": [
    {
     "data": {
      "text/plain": [
       "0.7732847513352035"
      ]
     },
     "execution_count": 89,
     "metadata": {},
     "output_type": "execute_result"
    }
   ],
   "source": [
    "bcm_power = chipower.solve_power(effect_size = chi2_effect_size(bcm_conversion_big, bcm_conversion_control),\n",
    "                                nobs = bcm_nobs,\n",
    "                                alpha = pval_bcm,\n",
    "                                power = None)\n",
    "bcm_power"
   ]
  },
  {
   "cell_type": "code",
   "execution_count": 90,
   "metadata": {},
   "outputs": [
    {
     "data": {
      "text/plain": [
       "0.7328770683197708"
      ]
     },
     "execution_count": 90,
     "metadata": {},
     "output_type": "execute_result"
    }
   ],
   "source": [
    "scm_power = chipower.solve_power(effect_size = chi2_effect_size(scm_conversion_small, scm_conversion_control),\n",
    "                                nobs = scm_nobs,\n",
    "                                alpha = pval_scm,\n",
    "                                power = None)\n",
    "scm_power"
   ]
  },
  {
   "cell_type": "code",
   "execution_count": 91,
   "metadata": {},
   "outputs": [
    {
     "data": {
      "text/html": [
       "<div>\n",
       "<style scoped>\n",
       "    .dataframe tbody tr th:only-of-type {\n",
       "        vertical-align: middle;\n",
       "    }\n",
       "\n",
       "    .dataframe tbody tr th {\n",
       "        vertical-align: top;\n",
       "    }\n",
       "\n",
       "    .dataframe thead th {\n",
       "        text-align: right;\n",
       "    }\n",
       "</style>\n",
       "<table border=\"1\" class=\"dataframe\">\n",
       "  <thead>\n",
       "    <tr style=\"text-align: right;\">\n",
       "      <th></th>\n",
       "      <th>comparison</th>\n",
       "      <th>power</th>\n",
       "    </tr>\n",
       "  </thead>\n",
       "  <tbody>\n",
       "    <tr>\n",
       "      <th>0</th>\n",
       "      <td>big_increase vs small_increase</td>\n",
       "      <td>0.757577</td>\n",
       "    </tr>\n",
       "    <tr>\n",
       "      <th>1</th>\n",
       "      <td>big_increase vs control</td>\n",
       "      <td>0.773285</td>\n",
       "    </tr>\n",
       "    <tr>\n",
       "      <th>2</th>\n",
       "      <td>small_increase vs control</td>\n",
       "      <td>0.732877</td>\n",
       "    </tr>\n",
       "  </tbody>\n",
       "</table>\n",
       "</div>"
      ],
      "text/plain": [
       "                       comparison     power\n",
       "0  big_increase vs small_increase  0.757577\n",
       "1         big_increase vs control  0.773285\n",
       "2       small_increase vs control  0.732877"
      ]
     },
     "execution_count": 91,
     "metadata": {},
     "output_type": "execute_result"
    }
   ],
   "source": [
    "power_results = pd.DataFrame({'comparison': ['big_increase vs small_increase', 'big_increase vs control', 'small_increase vs control'],\n",
    "                        'power': [bsm_power, bcm_power, scm_power]})\n",
    "power_results"
   ]
  },
  {
   "cell_type": "markdown",
   "metadata": {},
   "source": [
    "Здесь мы видим что мощность теста \"big_increase vs control\" 77% близка к стандартному значению (80%), в то время как в других группах она ниже.\n",
    "\n",
    "Далее исполульзуем bootstrap для среднего чека."
   ]
  },
  {
   "cell_type": "code",
   "execution_count": 92,
   "metadata": {},
   "outputs": [],
   "source": [
    "import bootstrapped.bootstrap as bs\n",
    "import bootstrapped.stats_functions as bs_stats\n",
    "import bootstrapped.compare_functions as bs_compare"
   ]
  },
  {
   "cell_type": "markdown",
   "metadata": {},
   "source": [
    "Создадим массивы с суммами средних чеков для каждой тестовой группы."
   ]
  },
  {
   "cell_type": "code",
   "execution_count": 93,
   "metadata": {},
   "outputs": [],
   "source": [
    "ctrl_group = november_data[november_data['test_group'] == 'control']['order_sum'].dropna().values\n",
    "big_incr_group = november_data[november_data['test_group'] == 'big_increase']['order_sum'].dropna().values\n",
    "small_incr_group = november_data[november_data['test_group'] == 'small_increase']['order_sum'].dropna().values"
   ]
  },
  {
   "cell_type": "code",
   "execution_count": 97,
   "metadata": {},
   "outputs": [
    {
     "data": {
      "text/plain": [
       "array([172.97365988, 194.74559765, 238.38642159, ..., 190.60542122,\n",
       "       252.44781456, 144.26601466])"
      ]
     },
     "execution_count": 97,
     "metadata": {},
     "output_type": "execute_result"
    }
   ],
   "source": [
    "bsm_boot_results = bs.bootstrap_ab(test = big_incr_group,\n",
    "                                  ctrl = small_incr_group,\n",
    "                                  stat_func = bs_stats.mean,\n",
    "                                  compare_func = bs_compare.difference,\n",
    "                                  return_distribution = True)\n",
    "bsm_boot_results"
   ]
  },
  {
   "cell_type": "code",
   "execution_count": 98,
   "metadata": {},
   "outputs": [
    {
     "data": {
      "text/plain": [
       "array([274.39394585, 237.9945299 , 302.03325749, ..., 203.24110739,\n",
       "       241.24183386, 201.60506677])"
      ]
     },
     "execution_count": 98,
     "metadata": {},
     "output_type": "execute_result"
    }
   ],
   "source": [
    "bcm_boot_results = bs.bootstrap_ab(test = big_incr_group,\n",
    "                                   ctrl = ctrl_group,\n",
    "                                   stat_func = bs_stats.mean,\n",
    "                                   compare_func = bs_compare.difference,\n",
    "                                   return_distribution = True)\n",
    "bcm_boot_results"
   ]
  },
  {
   "cell_type": "code",
   "execution_count": 99,
   "metadata": {},
   "outputs": [
    {
     "data": {
      "text/plain": [
       "array([ 63.17623298, -30.18063485, -16.20266572, ...,  14.70813947,\n",
       "        14.4759928 ,   0.48446462])"
      ]
     },
     "execution_count": 99,
     "metadata": {},
     "output_type": "execute_result"
    }
   ],
   "source": [
    "scm_boot_results = bs.bootstrap_ab(test = small_incr_group,\n",
    "                                  ctrl = ctrl_group,\n",
    "                                  stat_func = bs_stats.mean,\n",
    "                                  compare_func = bs_compare.difference,\n",
    "                                  return_distribution = True)\n",
    "scm_boot_results"
   ]
  },
  {
   "cell_type": "markdown",
   "metadata": {},
   "source": [
    "Далее перейдем к визуализации результатов и зададим размер доверительного интервала в промежутке\n",
    "2.5 - 97.5"
   ]
  },
  {
   "cell_type": "code",
   "execution_count": 100,
   "metadata": {},
   "outputs": [],
   "source": [
    "bsm_borders = np.percentile(bsm_boot_results, [2.5, 97.5])\n",
    "bcm_borders = np.percentile(bcm_boot_results, [2.5, 97.5])\n",
    "scm_borders = np.percentile(scm_boot_results, [2.5, 97.5])"
   ]
  },
  {
   "cell_type": "code",
   "execution_count": 101,
   "metadata": {},
   "outputs": [
    {
     "name": "stderr",
     "output_type": "stream",
     "text": [
      "C:\\Users\\Roman\\anaconda3\\lib\\site-packages\\seaborn\\distributions.py:2551: FutureWarning: `distplot` is a deprecated function and will be removed in a future version. Please adapt your code to use either `displot` (a figure-level function with similar flexibility) or `histplot` (an axes-level function for histograms).\n",
      "  warnings.warn(msg, FutureWarning)\n"
     ]
    },
    {
     "data": {
      "image/png": "[encoded data removed]",
      "text/plain": [
       "<Figure size 432x288 with 1 Axes>"
      ]
     },
     "metadata": {
      "needs_background": "light"
     },
     "output_type": "display_data"
    }
   ],
   "source": [
    "sns.distplot(bsm_boot_results) \n",
    "plt.title('Bootstrap-распределение разниц среднего чека для big_increase vs small_increase')\n",
    "plt.rcParams[\"figure.figsize\"] = (20, 9)\n",
    "plt.vlines(0, # отрисуем линию на уровне ноля\n",
    "           ymin = 0, \n",
    "           ymax = 0.010, \n",
    "           linestyles= '-', \n",
    "           colors = 'red')\n",
    "plt.vlines(bsm_borders, # отрисуем перцентили\n",
    "           ymin = 0, \n",
    "           ymax = 0.010, \n",
    "           linestyles= '--', \n",
    "           colors = 'k', \n",
    "           label = '95%-доверительный интервал')\n",
    "plt.legend()\n",
    "plt.show()"
   ]
  },
  {
   "cell_type": "markdown",
   "metadata": {},
   "source": [
    "Вывод по графику для группы big_increase vs small_increase:\n",
    "Ноль не входит в доверительный интервал, что говорит о статистически значимых изменениях в среднем чеке в положительную сторону. Чек увеличился в интервале примерно \"150р\" - \"290р\". "
   ]
  },
  {
   "cell_type": "code",
   "execution_count": 102,
   "metadata": {},
   "outputs": [
    {
     "name": "stderr",
     "output_type": "stream",
     "text": [
      "C:\\Users\\Roman\\anaconda3\\lib\\site-packages\\seaborn\\distributions.py:2551: FutureWarning: `distplot` is a deprecated function and will be removed in a future version. Please adapt your code to use either `displot` (a figure-level function with similar flexibility) or `histplot` (an axes-level function for histograms).\n",
      "  warnings.warn(msg, FutureWarning)\n"
     ]
    },
    {
     "data": {
      "image/png": "[encoded data removed]",
      "text/plain": [
       "<Figure size 1440x648 with 1 Axes>"
      ]
     },
     "metadata": {
      "needs_background": "light"
     },
     "output_type": "display_data"
    }
   ],
   "source": [
    "sns.distplot(bcm_boot_results) \n",
    "plt.title('Bootstrap-распределение разниц среднего чека для big_increase vs control')\n",
    "plt.rcParams[\"figure.figsize\"] = (16, 9)\n",
    "plt.vlines(0, # отрисуем линию на уровне ноля\n",
    "           ymin = 0, \n",
    "           ymax = 0.010, \n",
    "           linestyles= '-', \n",
    "           colors = 'red')\n",
    "plt.vlines(bcm_borders, # отрисуем перцентили\n",
    "           ymin = 0, \n",
    "           ymax = 0.010, \n",
    "           linestyles= '--', \n",
    "           colors = 'k', \n",
    "           label = '95%-доверительный интервал')\n",
    "plt.legend()\n",
    "plt.show()"
   ]
  },
  {
   "cell_type": "markdown",
   "metadata": {},
   "source": [
    "Вывод по графику для группы big_increase vs control:\n",
    "Ноль не входит в доверительный интервал, что говорит также о статистически значимых изменениях в среднем чеке в положительную сторону. Чек увеличился в интервале примерно \"170р\" - \"305р\". "
   ]
  },
  {
   "cell_type": "code",
   "execution_count": 103,
   "metadata": {},
   "outputs": [
    {
     "name": "stderr",
     "output_type": "stream",
     "text": [
      "C:\\Users\\Roman\\anaconda3\\lib\\site-packages\\seaborn\\distributions.py:2551: FutureWarning: `distplot` is a deprecated function and will be removed in a future version. Please adapt your code to use either `displot` (a figure-level function with similar flexibility) or `histplot` (an axes-level function for histograms).\n",
      "  warnings.warn(msg, FutureWarning)\n"
     ]
    },
    {
     "data": {
      "image/png": "[encoded data removed]",
      "text/plain": [
       "<Figure size 1152x648 with 1 Axes>"
      ]
     },
     "metadata": {
      "needs_background": "light"
     },
     "output_type": "display_data"
    }
   ],
   "source": [
    "sns.distplot(scm_boot_results) \n",
    "plt.title('Bootstrap-распределение разниц среднего чека для small_increase vs control')\n",
    "plt.rcParams[\"figure.figsize\"] = (16, 9)\n",
    "plt.vlines(0, # отрисуем линию на уровне ноля\n",
    "           ymin = 0, \n",
    "           ymax = 0.010, \n",
    "           linestyles= '-', \n",
    "           colors = 'red')\n",
    "plt.vlines(scm_borders, # отрисуем перцентили\n",
    "           ymin = 0, \n",
    "           ymax = 0.010, \n",
    "           linestyles= '--', \n",
    "           colors = 'k', \n",
    "           label = '95%-доверительный интервал')\n",
    "plt.legend()\n",
    "plt.show()"
   ]
  },
  {
   "cell_type": "markdown",
   "metadata": {},
   "source": [
    "Вывод по графику для группы small_increase vs control:\n",
    "Значение ноля нахохится практически в центре нашего доверительного интервала, что говорит о негативных изменениях в среднем чеке. Изменения в среднем чеке в интервале примерно: \"-50р\" - \"85р\""
   ]
  },
  {
   "cell_type": "markdown",
   "metadata": {},
   "source": [
    "Выведем основные показатели, а так же подсчитаем выручку для каждой группы."
   ]
  },
  {
   "cell_type": "code",
   "execution_count": 153,
   "metadata": {},
   "outputs": [
    {
     "data": {
      "text/html": [
       "<div>\n",
       "<style scoped>\n",
       "    .dataframe tbody tr th:only-of-type {\n",
       "        vertical-align: middle;\n",
       "    }\n",
       "\n",
       "    .dataframe tbody tr th {\n",
       "        vertical-align: top;\n",
       "    }\n",
       "\n",
       "    .dataframe thead th {\n",
       "        text-align: right;\n",
       "    }\n",
       "</style>\n",
       "<table border=\"1\" class=\"dataframe\">\n",
       "  <thead>\n",
       "    <tr style=\"text-align: right;\">\n",
       "      <th></th>\n",
       "      <th>test_group</th>\n",
       "      <th>order_sum</th>\n",
       "    </tr>\n",
       "  </thead>\n",
       "  <tbody>\n",
       "    <tr>\n",
       "      <th>0</th>\n",
       "      <td>big_increase</td>\n",
       "      <td>45707664.0</td>\n",
       "    </tr>\n",
       "    <tr>\n",
       "      <th>1</th>\n",
       "      <td>control</td>\n",
       "      <td>44727872.0</td>\n",
       "    </tr>\n",
       "    <tr>\n",
       "      <th>2</th>\n",
       "      <td>small_increase</td>\n",
       "      <td>43685854.0</td>\n",
       "    </tr>\n",
       "  </tbody>\n",
       "</table>\n",
       "</div>"
      ],
      "text/plain": [
       "       test_group   order_sum\n",
       "0    big_increase  45707664.0\n",
       "1         control  44727872.0\n",
       "2  small_increase  43685854.0"
      ]
     },
     "execution_count": 153,
     "metadata": {},
     "output_type": "execute_result"
    }
   ],
   "source": [
    "total_income = pd.DataFrame(november_data.groupby('test_group')['order_sum'].sum()).reset_index()\n",
    "#total_income"
   ]
  },
  {
   "cell_type": "code",
   "execution_count": 167,
   "metadata": {},
   "outputs": [
    {
     "data": {
      "text/plain": [
       "44727872.0"
      ]
     },
     "execution_count": 167,
     "metadata": {},
     "output_type": "execute_result"
    }
   ],
   "source": [
    "control_inc = total_income.loc[[1], ['order_sum']]\n",
    "ctrl_inc = control_inc.iloc[0]['order_sum']\n",
    "ctrl_inc"
   ]
  },
  {
   "cell_type": "code",
   "execution_count": 168,
   "metadata": {},
   "outputs": [],
   "source": [
    "total_income['control_group'] = [ctrl_inc, ctrl_inc, ctrl_inc]"
   ]
  },
  {
   "cell_type": "code",
   "execution_count": 173,
   "metadata": {},
   "outputs": [],
   "source": [
    "total_income['percentage'] = round(((total_income['order_sum'] - total_income['control_group']) / total_income['control_group']) * 100, 1)"
   ]
  },
  {
   "cell_type": "code",
   "execution_count": 104,
   "metadata": {
    "scrolled": false
   },
   "outputs": [
    {
     "data": {
      "text/html": [
       "<div>\n",
       "<style scoped>\n",
       "    .dataframe tbody tr th:only-of-type {\n",
       "        vertical-align: middle;\n",
       "    }\n",
       "\n",
       "    .dataframe tbody tr th {\n",
       "        vertical-align: top;\n",
       "    }\n",
       "\n",
       "    .dataframe thead th {\n",
       "        text-align: right;\n",
       "    }\n",
       "</style>\n",
       "<table border=\"1\" class=\"dataframe\">\n",
       "  <thead>\n",
       "    <tr style=\"text-align: right;\">\n",
       "      <th></th>\n",
       "      <th>comparison</th>\n",
       "      <th>p-value before</th>\n",
       "      <th>p-value after correction</th>\n",
       "      <th>power</th>\n",
       "      <th>check_diff</th>\n",
       "    </tr>\n",
       "  </thead>\n",
       "  <tbody>\n",
       "    <tr>\n",
       "      <th>0</th>\n",
       "      <td>big_increase vs small_increase</td>\n",
       "      <td>0.729812</td>\n",
       "      <td>1.000000</td>\n",
       "      <td>0.757577</td>\n",
       "      <td>150 - 290</td>\n",
       "    </tr>\n",
       "    <tr>\n",
       "      <th>1</th>\n",
       "      <td>big_increase vs control</td>\n",
       "      <td>0.035664</td>\n",
       "      <td>0.106992</td>\n",
       "      <td>0.773285</td>\n",
       "      <td>170 - 305</td>\n",
       "    </tr>\n",
       "    <tr>\n",
       "      <th>2</th>\n",
       "      <td>small_increase vs control</td>\n",
       "      <td>0.078501</td>\n",
       "      <td>0.235502</td>\n",
       "      <td>0.732877</td>\n",
       "      <td>-50 - 85</td>\n",
       "    </tr>\n",
       "  </tbody>\n",
       "</table>\n",
       "</div>"
      ],
      "text/plain": [
       "                       comparison  p-value before  p-value after correction  \\\n",
       "0  big_increase vs small_increase        0.729812                  1.000000   \n",
       "1         big_increase vs control        0.035664                  0.106992   \n",
       "2       small_increase vs control        0.078501                  0.235502   \n",
       "\n",
       "      power check_diff  \n",
       "0  0.757577  150 - 290  \n",
       "1  0.773285  170 - 305  \n",
       "2  0.732877   -50 - 85  "
      ]
     },
     "execution_count": 104,
     "metadata": {},
     "output_type": "execute_result"
    }
   ],
   "source": [
    "#Подвинул ячейку чтобы таблицы с результатами были рядом\n",
    "total = pd.merge(results,\n",
    "                 power_results,\n",
    "                 how = 'inner',\n",
    "                 on = 'comparison')\n",
    "total['check_diff'] = ['150 - 290', '170 - 305', '-50 - 85']\n",
    "total = total.drop('stat sign before', 1)\n",
    "total"
   ]
  },
  {
   "cell_type": "code",
   "execution_count": 175,
   "metadata": {},
   "outputs": [
    {
     "data": {
      "text/html": [
       "<div>\n",
       "<style scoped>\n",
       "    .dataframe tbody tr th:only-of-type {\n",
       "        vertical-align: middle;\n",
       "    }\n",
       "\n",
       "    .dataframe tbody tr th {\n",
       "        vertical-align: top;\n",
       "    }\n",
       "\n",
       "    .dataframe thead th {\n",
       "        text-align: right;\n",
       "    }\n",
       "</style>\n",
       "<table border=\"1\" class=\"dataframe\">\n",
       "  <thead>\n",
       "    <tr style=\"text-align: right;\">\n",
       "      <th></th>\n",
       "      <th>test_group</th>\n",
       "      <th>order_sum</th>\n",
       "      <th>percentage</th>\n",
       "    </tr>\n",
       "  </thead>\n",
       "  <tbody>\n",
       "    <tr>\n",
       "      <th>0</th>\n",
       "      <td>big_increase</td>\n",
       "      <td>45707664.0</td>\n",
       "      <td>2.2</td>\n",
       "    </tr>\n",
       "    <tr>\n",
       "      <th>1</th>\n",
       "      <td>control</td>\n",
       "      <td>44727872.0</td>\n",
       "      <td>0.0</td>\n",
       "    </tr>\n",
       "    <tr>\n",
       "      <th>2</th>\n",
       "      <td>small_increase</td>\n",
       "      <td>43685854.0</td>\n",
       "      <td>-2.3</td>\n",
       "    </tr>\n",
       "  </tbody>\n",
       "</table>\n",
       "</div>"
      ],
      "text/plain": [
       "       test_group   order_sum  percentage\n",
       "0    big_increase  45707664.0         2.2\n",
       "1         control  44727872.0         0.0\n",
       "2  small_increase  43685854.0        -2.3"
      ]
     },
     "execution_count": 175,
     "metadata": {},
     "output_type": "execute_result"
    }
   ],
   "source": [
    "total_income.drop('control_group', 1)"
   ]
  },
  {
   "cell_type": "markdown",
   "metadata": {},
   "source": [
    "Итог:\n",
    "\n",
    "Тест small_increase vs control\n",
    "Не смотря на что изменение в конверсии имеет статистически значимую разницу и мощность теста близкую к стандартному значению, изменения для среднего чека показывают негативную динамику. Так как задача бизнеса - увеличение прибыли, данный сценарий нам не подходит.\n",
    "\n",
    "Тест big_increase vs small_increase\n",
    "Не смотря на статистически значимую разницу среднего чека и его положительную динамику, разница в конверсии имеет высокую вероятность ошибки первого рода, после поправки Бонферрони она вообще имеет значение 100%, что говорит об отсутствии разницы в данной группе. Также мощность теста имеет самое низкое значение среди всех групп. Поэтому мы отклоняем данную теорию.\n",
    "\n",
    "Тест big_increase vs control\n",
    "Изменение в конверсии имеет статистически значимое значение, после поправки Бонферрони составляет самое низкое значение среди остальных групп - 10%. Мощность теста в данной группе самая высокая 75% и наиболее приближена к стандартному показателю в 80%. Также здесь присутствует статистически значимое изменение по среднему чеку и самую высокую по динамике, что в свою очередь помогает бизнесу выполнять основную задачу в увеличении прибыли.\n",
    "\n"
   ]
  },
  {
   "cell_type": "markdown",
   "metadata": {},
   "source": [
    "Следует заметить, что высокое повышение цен привело к увеличению общей выручки на 2,2%, в то время как невысокое увеличение привело к ее снижению на 2,3%."
   ]
  },
  {
   "cell_type": "code",
   "execution_count": null,
   "metadata": {},
   "outputs": [],
   "source": []
  }
 ],
 "metadata": {
  "kernelspec": {
   "display_name": "Python 3",
   "language": "python",
   "name": "python3"
  },
  "language_info": {
   "codemirror_mode": {
    "name": "ipython",
    "version": 3
   },
   "file_extension": ".py",
   "mimetype": "text/x-python",
   "name": "python",
   "nbconvert_exporter": "python",
   "pygments_lexer": "ipython3",
   "version": "3.8.5"
  }
 },
 "nbformat": 4,
 "nbformat_minor": 4
}
